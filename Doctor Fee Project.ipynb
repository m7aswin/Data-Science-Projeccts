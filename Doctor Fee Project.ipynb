{
 "cells": [
  {
   "cell_type": "code",
   "execution_count": 1,
   "metadata": {},
   "outputs": [],
   "source": [
    "import warnings \n",
    "warnings.filterwarnings('ignore')\n",
    "\n",
    "import pandas as pd\n",
    "import numpy as np\n",
    "from scipy import stats\n",
    "import seaborn as sns\n",
    "import matplotlib.pyplot as plt"
   ]
  },
  {
   "cell_type": "code",
   "execution_count": 2,
   "metadata": {},
   "outputs": [
    {
     "data": {
      "text/html": [
       "<div>\n",
       "<style scoped>\n",
       "    .dataframe tbody tr th:only-of-type {\n",
       "        vertical-align: middle;\n",
       "    }\n",
       "\n",
       "    .dataframe tbody tr th {\n",
       "        vertical-align: top;\n",
       "    }\n",
       "\n",
       "    .dataframe thead th {\n",
       "        text-align: right;\n",
       "    }\n",
       "</style>\n",
       "<table border=\"1\" class=\"dataframe\">\n",
       "  <thead>\n",
       "    <tr style=\"text-align: right;\">\n",
       "      <th></th>\n",
       "      <th>Qualification</th>\n",
       "      <th>Experience</th>\n",
       "      <th>Rating</th>\n",
       "      <th>Place</th>\n",
       "      <th>Profile</th>\n",
       "      <th>Miscellaneous_Info</th>\n",
       "      <th>Fees</th>\n",
       "    </tr>\n",
       "  </thead>\n",
       "  <tbody>\n",
       "    <tr>\n",
       "      <th>0</th>\n",
       "      <td>BHMS, MD - Homeopathy</td>\n",
       "      <td>24 years experience</td>\n",
       "      <td>100%</td>\n",
       "      <td>Kakkanad, Ernakulam</td>\n",
       "      <td>Homeopath</td>\n",
       "      <td>100% 16 Feedback Kakkanad, Ernakulam</td>\n",
       "      <td>100</td>\n",
       "    </tr>\n",
       "    <tr>\n",
       "      <th>1</th>\n",
       "      <td>BAMS, MD - Ayurveda Medicine</td>\n",
       "      <td>12 years experience</td>\n",
       "      <td>98%</td>\n",
       "      <td>Whitefield, Bangalore</td>\n",
       "      <td>Ayurveda</td>\n",
       "      <td>98% 76 Feedback Whitefield, Bangalore</td>\n",
       "      <td>350</td>\n",
       "    </tr>\n",
       "    <tr>\n",
       "      <th>2</th>\n",
       "      <td>MBBS, MS - Otorhinolaryngology</td>\n",
       "      <td>9 years experience</td>\n",
       "      <td>NaN</td>\n",
       "      <td>Mathikere - BEL, Bangalore</td>\n",
       "      <td>ENT Specialist</td>\n",
       "      <td>NaN</td>\n",
       "      <td>300</td>\n",
       "    </tr>\n",
       "    <tr>\n",
       "      <th>3</th>\n",
       "      <td>BSc - Zoology, BAMS</td>\n",
       "      <td>12 years experience</td>\n",
       "      <td>NaN</td>\n",
       "      <td>Bannerghatta Road, Bangalore</td>\n",
       "      <td>Ayurveda</td>\n",
       "      <td>Bannerghatta Road, Bangalore ₹250 Available on...</td>\n",
       "      <td>250</td>\n",
       "    </tr>\n",
       "    <tr>\n",
       "      <th>4</th>\n",
       "      <td>BAMS</td>\n",
       "      <td>20 years experience</td>\n",
       "      <td>100%</td>\n",
       "      <td>Keelkattalai, Chennai</td>\n",
       "      <td>Ayurveda</td>\n",
       "      <td>100% 4 Feedback Keelkattalai, Chennai</td>\n",
       "      <td>250</td>\n",
       "    </tr>\n",
       "  </tbody>\n",
       "</table>\n",
       "</div>"
      ],
      "text/plain": [
       "                    Qualification           Experience Rating  \\\n",
       "0           BHMS, MD - Homeopathy  24 years experience   100%   \n",
       "1    BAMS, MD - Ayurveda Medicine  12 years experience    98%   \n",
       "2  MBBS, MS - Otorhinolaryngology   9 years experience    NaN   \n",
       "3             BSc - Zoology, BAMS  12 years experience    NaN   \n",
       "4                            BAMS  20 years experience   100%   \n",
       "\n",
       "                          Place         Profile  \\\n",
       "0           Kakkanad, Ernakulam       Homeopath   \n",
       "1         Whitefield, Bangalore        Ayurveda   \n",
       "2    Mathikere - BEL, Bangalore  ENT Specialist   \n",
       "3  Bannerghatta Road, Bangalore        Ayurveda   \n",
       "4         Keelkattalai, Chennai        Ayurveda   \n",
       "\n",
       "                                  Miscellaneous_Info  Fees  \n",
       "0               100% 16 Feedback Kakkanad, Ernakulam   100  \n",
       "1              98% 76 Feedback Whitefield, Bangalore   350  \n",
       "2                                                NaN   300  \n",
       "3  Bannerghatta Road, Bangalore ₹250 Available on...   250  \n",
       "4              100% 4 Feedback Keelkattalai, Chennai   250  "
      ]
     },
     "execution_count": 2,
     "metadata": {},
     "output_type": "execute_result"
    }
   ],
   "source": [
    "train_data=pd.read_excel('Final Participant Data Folder/Final_Train.xlsx')\n",
    "train_data.head()"
   ]
  },
  {
   "cell_type": "code",
   "execution_count": 3,
   "metadata": {},
   "outputs": [
    {
     "data": {
      "text/html": [
       "<div>\n",
       "<style scoped>\n",
       "    .dataframe tbody tr th:only-of-type {\n",
       "        vertical-align: middle;\n",
       "    }\n",
       "\n",
       "    .dataframe tbody tr th {\n",
       "        vertical-align: top;\n",
       "    }\n",
       "\n",
       "    .dataframe thead th {\n",
       "        text-align: right;\n",
       "    }\n",
       "</style>\n",
       "<table border=\"1\" class=\"dataframe\">\n",
       "  <thead>\n",
       "    <tr style=\"text-align: right;\">\n",
       "      <th></th>\n",
       "      <th>Qualification</th>\n",
       "      <th>Experience</th>\n",
       "      <th>Rating</th>\n",
       "      <th>Place</th>\n",
       "      <th>Profile</th>\n",
       "      <th>Miscellaneous_Info</th>\n",
       "    </tr>\n",
       "  </thead>\n",
       "  <tbody>\n",
       "    <tr>\n",
       "      <th>0</th>\n",
       "      <td>MBBS</td>\n",
       "      <td>35 years experience</td>\n",
       "      <td>NaN</td>\n",
       "      <td>Ghatkopar East, Mumbai</td>\n",
       "      <td>General Medicine</td>\n",
       "      <td>NaN</td>\n",
       "    </tr>\n",
       "    <tr>\n",
       "      <th>1</th>\n",
       "      <td>MBBS, Diploma in Otorhinolaryngology (DLO)</td>\n",
       "      <td>31 years experience</td>\n",
       "      <td>NaN</td>\n",
       "      <td>West Marredpally, Hyderabad</td>\n",
       "      <td>ENT Specialist</td>\n",
       "      <td>NaN</td>\n",
       "    </tr>\n",
       "    <tr>\n",
       "      <th>2</th>\n",
       "      <td>MBBS, DDVL</td>\n",
       "      <td>40 years experience</td>\n",
       "      <td>70%</td>\n",
       "      <td>KK Nagar, Chennai</td>\n",
       "      <td>Dermatologists</td>\n",
       "      <td>70% 4 Feedback KK Nagar, Chennai</td>\n",
       "    </tr>\n",
       "    <tr>\n",
       "      <th>3</th>\n",
       "      <td>BAMS</td>\n",
       "      <td>0 years experience</td>\n",
       "      <td>NaN</td>\n",
       "      <td>New Ashok Nagar, Delhi</td>\n",
       "      <td>Ayurveda</td>\n",
       "      <td>NaN</td>\n",
       "    </tr>\n",
       "    <tr>\n",
       "      <th>4</th>\n",
       "      <td>BDS, MDS - Conservative Dentistry &amp; Endodontics</td>\n",
       "      <td>16 years experience</td>\n",
       "      <td>100%</td>\n",
       "      <td>Kanakpura Road, Bangalore</td>\n",
       "      <td>Dentist</td>\n",
       "      <td>General Dentistry Conservative Dentistry Cosme...</td>\n",
       "    </tr>\n",
       "  </tbody>\n",
       "</table>\n",
       "</div>"
      ],
      "text/plain": [
       "                                     Qualification           Experience  \\\n",
       "0                                             MBBS  35 years experience   \n",
       "1       MBBS, Diploma in Otorhinolaryngology (DLO)  31 years experience   \n",
       "2                                       MBBS, DDVL  40 years experience   \n",
       "3                                             BAMS   0 years experience   \n",
       "4  BDS, MDS - Conservative Dentistry & Endodontics  16 years experience   \n",
       "\n",
       "  Rating                        Place           Profile  \\\n",
       "0    NaN       Ghatkopar East, Mumbai  General Medicine   \n",
       "1    NaN  West Marredpally, Hyderabad    ENT Specialist   \n",
       "2    70%            KK Nagar, Chennai    Dermatologists   \n",
       "3    NaN       New Ashok Nagar, Delhi          Ayurveda   \n",
       "4   100%    Kanakpura Road, Bangalore           Dentist   \n",
       "\n",
       "                                  Miscellaneous_Info  \n",
       "0                                                NaN  \n",
       "1                                                NaN  \n",
       "2                   70% 4 Feedback KK Nagar, Chennai  \n",
       "3                                                NaN  \n",
       "4  General Dentistry Conservative Dentistry Cosme...  "
      ]
     },
     "execution_count": 3,
     "metadata": {},
     "output_type": "execute_result"
    }
   ],
   "source": [
    "test_data=pd.read_excel('Final Participant Data Folder/Final_Test.xlsx')\n",
    "test_data.head()"
   ]
  },
  {
   "cell_type": "code",
   "execution_count": 4,
   "metadata": {},
   "outputs": [
    {
     "name": "stdout",
     "output_type": "stream",
     "text": [
      "Shape of train_data = (5961, 7) \n",
      "Shape of test_data = (1987, 6)\n"
     ]
    }
   ],
   "source": [
    "print(f'Shape of train_data = {train_data.shape} \\nShape of test_data = {test_data.shape}')"
   ]
  },
  {
   "cell_type": "markdown",
   "metadata": {},
   "source": [
    "Train_data have 7 columns and 5961 rows\n",
    "\n",
    "Test_data have 7 columns and 1987 rows"
   ]
  },
  {
   "cell_type": "markdown",
   "metadata": {},
   "source": [
    "#### Checking the datatypes and null values present in  of each column"
   ]
  },
  {
   "cell_type": "code",
   "execution_count": 5,
   "metadata": {},
   "outputs": [
    {
     "name": "stdout",
     "output_type": "stream",
     "text": [
      "<class 'pandas.core.frame.DataFrame'>\n",
      "RangeIndex: 5961 entries, 0 to 5960\n",
      "Data columns (total 7 columns):\n",
      "Qualification         5961 non-null object\n",
      "Experience            5961 non-null object\n",
      "Rating                2659 non-null object\n",
      "Place                 5936 non-null object\n",
      "Profile               5961 non-null object\n",
      "Miscellaneous_Info    3341 non-null object\n",
      "Fees                  5961 non-null int64\n",
      "dtypes: int64(1), object(6)\n",
      "memory usage: 326.1+ KB\n"
     ]
    }
   ],
   "source": [
    "train_data.info()"
   ]
  },
  {
   "cell_type": "markdown",
   "metadata": {},
   "source": [
    "- Only Fees column is in int64 dtype all other columns are in object dtype\n",
    "- There are null values present in Rating, Place and Miscellaneous_Info columns"
   ]
  },
  {
   "cell_type": "code",
   "execution_count": 6,
   "metadata": {},
   "outputs": [
    {
     "name": "stdout",
     "output_type": "stream",
     "text": [
      "<class 'pandas.core.frame.DataFrame'>\n",
      "RangeIndex: 1987 entries, 0 to 1986\n",
      "Data columns (total 6 columns):\n",
      "Qualification         1987 non-null object\n",
      "Experience            1987 non-null object\n",
      "Rating                897 non-null object\n",
      "Place                 1981 non-null object\n",
      "Profile               1987 non-null object\n",
      "Miscellaneous_Info    1153 non-null object\n",
      "dtypes: object(6)\n",
      "memory usage: 93.3+ KB\n"
     ]
    }
   ],
   "source": [
    "test_data.info()"
   ]
  },
  {
   "cell_type": "markdown",
   "metadata": {},
   "source": [
    "All columns are in object dtype\n",
    "\n",
    "There are null values in Rating , Place and Miscellaneous_Info columns"
   ]
  },
  {
   "cell_type": "markdown",
   "metadata": {},
   "source": [
    "- Qualification : Qualification and degrees held by the doctor \n",
    "- Experience : Experience of the doctor in number of years \n",
    "- Rating : Ratings given by patients \n",
    "- Profile : Type of the doctor \n",
    "- Miscellaeous_Info : Extra information about the doctor \n",
    "- Place : Area and the city where the doctor is located.\n",
    "- Fees : Fees charged by the doctor. This is the target variable."
   ]
  },
  {
   "cell_type": "markdown",
   "metadata": {},
   "source": [
    "#### Checking number of unique values in each columns"
   ]
  },
  {
   "cell_type": "code",
   "execution_count": 7,
   "metadata": {},
   "outputs": [
    {
     "data": {
      "text/plain": [
       "Qualification         1420\n",
       "Experience              64\n",
       "Rating                  51\n",
       "Place                  877\n",
       "Profile                  6\n",
       "Miscellaneous_Info    2998\n",
       "Fees                    40\n",
       "dtype: int64"
      ]
     },
     "execution_count": 7,
     "metadata": {},
     "output_type": "execute_result"
    }
   ],
   "source": [
    "train_data.nunique()"
   ]
  },
  {
   "cell_type": "code",
   "execution_count": 8,
   "metadata": {},
   "outputs": [
    {
     "data": {
      "text/plain": [
       "Qualification          630\n",
       "Experience              57\n",
       "Rating                  36\n",
       "Place                  592\n",
       "Profile                  6\n",
       "Miscellaneous_Info    1084\n",
       "dtype: int64"
      ]
     },
     "execution_count": 8,
     "metadata": {},
     "output_type": "execute_result"
    }
   ],
   "source": [
    "test_data.nunique()"
   ]
  },
  {
   "cell_type": "markdown",
   "metadata": {},
   "source": [
    "#### HandLing null values"
   ]
  },
  {
   "cell_type": "code",
   "execution_count": 9,
   "metadata": {},
   "outputs": [
    {
     "name": "stdout",
     "output_type": "stream",
     "text": [
      "---TRAIN DATA--- \n",
      "Qualification            0\n",
      "Experience               0\n",
      "Rating                3302\n",
      "Place                   25\n",
      "Profile                  0\n",
      "Miscellaneous_Info    2620\n",
      "Fees                     0\n",
      "dtype: int64\n",
      "\n",
      "---TEST DATA--- \n",
      "Qualification            0\n",
      "Experience               0\n",
      "Rating                1090\n",
      "Place                    6\n",
      "Profile                  0\n",
      "Miscellaneous_Info     834\n",
      "dtype: int64\n"
     ]
    }
   ],
   "source": [
    "# Let's check the null values of train data.\n",
    "\n",
    "print(f\"---TRAIN DATA--- \\n{train_data.isnull().sum()}\\n\")\n",
    "print(f\"---TEST DATA--- \\n{test_data.isnull().sum()}\")"
   ]
  },
  {
   "cell_type": "code",
   "execution_count": 10,
   "metadata": {},
   "outputs": [
    {
     "data": {
      "text/plain": [
       "<matplotlib.axes._subplots.AxesSubplot at 0x2b45378dc48>"
      ]
     },
     "execution_count": 10,
     "metadata": {},
     "output_type": "execute_result"
    },
    {
     "data": {
      "image/png": "[encoded data removed]",
      "text/plain": [
       "<Figure size 864x432 with 4 Axes>"
      ]
     },
     "metadata": {
      "needs_background": "light"
     },
     "output_type": "display_data"
    }
   ],
   "source": [
    "# Visualizing the null values using heatmap.\n",
    "\n",
    "plt.figure(figsize=(12,6))\n",
    "\n",
    "plt.subplot(1,2,1)\n",
    "sns.heatmap(train_data.isnull(), cmap = 'BuPu_r')\n",
    "\n",
    "plt.subplot(1,2,2)\n",
    "sns.heatmap(train_data.isnull(), cmap = 'BuPu_r')"
   ]
  },
  {
   "cell_type": "markdown",
   "metadata": {},
   "source": [
    "From the above it is reflecting that 'Rating', 'Places' and 'Miscellaneous_Info' have null value present in the dataset which needs to be filled."
   ]
  },
  {
   "cell_type": "markdown",
   "metadata": {},
   "source": [
    "Handling Null values in Rating column"
   ]
  },
  {
   "cell_type": "code",
   "execution_count": 11,
   "metadata": {},
   "outputs": [],
   "source": [
    "# Removing % from Rating column in train_data and test_data \n",
    "train_data.Rating=train_data.Rating.str.rstrip('%')\n",
    "test_data.Rating=test_data.Rating.str.rstrip('%')"
   ]
  },
  {
   "cell_type": "code",
   "execution_count": 12,
   "metadata": {},
   "outputs": [],
   "source": [
    "# Converting dtype of Rating column\n",
    "\n",
    "# train_data\n",
    "train_ratings=[]\n",
    "for i,x in enumerate(train_data.Rating):\n",
    "    try:\n",
    "        train_data.Rating[i]=int(x)\n",
    "        train_ratings.append(train_data.Rating[i])\n",
    "    except:\n",
    "        pass\n",
    "\n",
    "# test_data\n",
    "test_ratings=[]\n",
    "for i,x in enumerate(test_data.Rating):\n",
    "    try:\n",
    "        test_data.Rating[i]=int(x)\n",
    "        test_ratings.append(test_data.Rating[i])\n",
    "    except:\n",
    "        pass"
   ]
  },
  {
   "cell_type": "code",
   "execution_count": 13,
   "metadata": {},
   "outputs": [
    {
     "name": "stdout",
     "output_type": "stream",
     "text": [
      "train_ratings : mean=94.64347499059797\t median=97.0\n",
      "\n",
      "test_ratings : mean=94.44147157190635\t median=97.0\n"
     ]
    }
   ],
   "source": [
    "# Converting list into numpy array\n",
    "\n",
    "train_ratings=np.array(train_ratings)\n",
    "test_ratings=np.array(test_ratings)\n",
    "\n",
    "# Calculating mean and median\n",
    "\n",
    "print(f'train_ratings : mean={train_ratings.mean()}\\t median={np.median(train_ratings)}\\n')\n",
    "print(f'test_ratings : mean={test_ratings.mean()}\\t median={np.median(test_ratings)}')"
   ]
  },
  {
   "cell_type": "code",
   "execution_count": 16,
   "metadata": {},
   "outputs": [],
   "source": [
    "# Handling null values in Rating column\n",
    "\n",
    "# train_data\n",
    "train_data.Rating.fillna(np.median(train_ratings),inplace=True)\n",
    "\n",
    "#test_data\n",
    "test_data.Rating.fillna(np.median(test_ratings),inplace=True)"
   ]
  },
  {
   "cell_type": "markdown",
   "metadata": {},
   "source": [
    "Handling Null values in Place column"
   ]
  },
  {
   "cell_type": "code",
   "execution_count": 17,
   "metadata": {},
   "outputs": [],
   "source": [
    "train_data.Place.fillna('Not_Known',inplace=True)\n",
    "\n",
    "test_data.Place.fillna('Not_known',inplace=True)"
   ]
  },
  {
   "cell_type": "code",
   "execution_count": 18,
   "metadata": {},
   "outputs": [],
   "source": [
    "# Dropping the Miscellaneous_Info because the info. this column is reflecting does not affects the consulatation fees of the doctor.\n",
    "\n",
    "train_data.drop(['Miscellaneous_Info'], axis=1, inplace = True)\n",
    "test_data.drop(['Miscellaneous_Info'], axis=1, inplace = True)"
   ]
  },
  {
   "cell_type": "code",
   "execution_count": 19,
   "metadata": {},
   "outputs": [
    {
     "data": {
      "text/plain": [
       "<matplotlib.axes._subplots.AxesSubplot at 0x2b45745fe88>"
      ]
     },
     "execution_count": 19,
     "metadata": {},
     "output_type": "execute_result"
    },
    {
     "data": {
      "image/png": "[encoded data removed]",
      "text/plain": [
       "<Figure size 864x432 with 4 Axes>"
      ]
     },
     "metadata": {
      "needs_background": "light"
     },
     "output_type": "display_data"
    }
   ],
   "source": [
    "# Visualizing the null values using heatmap.\n",
    "\n",
    "plt.figure(figsize=(12,6))\n",
    "\n",
    "plt.subplot(1,2,1)\n",
    "sns.heatmap(train_data.isnull(), cmap = 'BuPu_r')\n",
    "\n",
    "plt.subplot(1,2,2)\n",
    "sns.heatmap(train_data.isnull(), cmap = 'BuPu_r')"
   ]
  },
  {
   "cell_type": "code",
   "execution_count": 21,
   "metadata": {},
   "outputs": [
    {
     "name": "stdout",
     "output_type": "stream",
     "text": [
      "False\n",
      "False\n"
     ]
    }
   ],
   "source": [
    "print(train_data.isnull().values.any())\n",
    "print(test_data.isnull().values.any())"
   ]
  },
  {
   "cell_type": "markdown",
   "metadata": {},
   "source": [
    "All the null values in train_data and test_data have handled successfully.."
   ]
  },
  {
   "cell_type": "code",
   "execution_count": 22,
   "metadata": {},
   "outputs": [
    {
     "data": {
      "text/plain": [
       "<matplotlib.axes._subplots.AxesSubplot at 0x2b458bcc5c8>"
      ]
     },
     "execution_count": 22,
     "metadata": {},
     "output_type": "execute_result"
    },
    {
     "data": {
      "image/png": "[encoded data removed]",
      "text/plain": [
       "<Figure size 576x432 with 1 Axes>"
      ]
     },
     "metadata": {
      "needs_background": "light"
     },
     "output_type": "display_data"
    }
   ],
   "source": [
    "# Visualizing the distribution of target variable.\n",
    "\n",
    "plt.figure(figsize=(8,6))\n",
    "sns.set_style('whitegrid')\n",
    "sns.distplot(train_data['Fees'], color = 'darkblue')"
   ]
  },
  {
   "cell_type": "markdown",
   "metadata": {},
   "source": [
    "#### Handling the Object dtype "
   ]
  },
  {
   "cell_type": "code",
   "execution_count": 23,
   "metadata": {},
   "outputs": [
    {
     "data": {
      "text/plain": [
       "Qualification     object\n",
       "Experience        object\n",
       "Rating           float64\n",
       "Place             object\n",
       "Profile           object\n",
       "Fees               int64\n",
       "dtype: object"
      ]
     },
     "execution_count": 23,
     "metadata": {},
     "output_type": "execute_result"
    }
   ],
   "source": [
    "train_data.dtypes"
   ]
  },
  {
   "cell_type": "code",
   "execution_count": 24,
   "metadata": {},
   "outputs": [
    {
     "data": {
      "text/plain": [
       "Qualification     object\n",
       "Experience        object\n",
       "Rating           float64\n",
       "Place             object\n",
       "Profile           object\n",
       "dtype: object"
      ]
     },
     "execution_count": 24,
     "metadata": {},
     "output_type": "execute_result"
    }
   ],
   "source": [
    "test_data.dtypes"
   ]
  },
  {
   "cell_type": "markdown",
   "metadata": {},
   "source": [
    "Both dataset have object dtypes in Qualification, experience, place and profile column"
   ]
  },
  {
   "cell_type": "markdown",
   "metadata": {},
   "source": [
    "Feature Engineering"
   ]
  },
  {
   "cell_type": "code",
   "execution_count": 25,
   "metadata": {},
   "outputs": [],
   "source": [
    "# Stripping off or removing the 'years experience' from the 'Experience' e.g. 6 votes stripped off to 6, for training and testing dataset.\n",
    "\n",
    "# train_data\n",
    "train_data[\"Experience\"]=train_data[\"Experience\"].str.rstrip('years experience')\n",
    "\n",
    "# test_data\n",
    "test_data[\"Experience\"]=test_data[\"Experience\"].str.rstrip('years experience')"
   ]
  },
  {
   "cell_type": "code",
   "execution_count": 26,
   "metadata": {},
   "outputs": [],
   "source": [
    "# splitting the Place into two diff columns, They are delimited by ','\n",
    "\n",
    "\n",
    "# For train dataset.\n",
    "train_data['Area']=train_data.Place.str.split(',').str[0]\n",
    "train_data['City']=train_data.Place.str.split(',').str[1]\n",
    "\n",
    "# For test dataset.\n",
    "test_data['Area']=test_data.Place.str.split(',').str[0]\n",
    "test_data['City']=test_data.Place.str.split(',').str[1]"
   ]
  },
  {
   "cell_type": "code",
   "execution_count": 30,
   "metadata": {},
   "outputs": [
    {
     "data": {
      "text/plain": [
       " Bangalore             1258\n",
       " Mumbai                1219\n",
       " Delhi                 1184\n",
       " Hyderabad              951\n",
       " Chennai                855\n",
       " Coimbatore             228\n",
       " Ernakulam              153\n",
       " Thiruvananthapuram      86\n",
       " Sector 5                 1\n",
       "Name: City, dtype: int64"
      ]
     },
     "execution_count": 30,
     "metadata": {},
     "output_type": "execute_result"
    }
   ],
   "source": [
    "train_data.City.value_counts()"
   ]
  },
  {
   "cell_type": "code",
   "execution_count": 35,
   "metadata": {},
   "outputs": [],
   "source": [
    "# Dropping City having value ' Sector 5' \n",
    "\n",
    "train_data.drop(train_data[train_data.City==' Sector 5'].index,inplace=True)"
   ]
  },
  {
   "cell_type": "markdown",
   "metadata": {},
   "source": [
    "###### Checking null values in train_data and test_data"
   ]
  },
  {
   "cell_type": "code",
   "execution_count": 36,
   "metadata": {},
   "outputs": [
    {
     "name": "stdout",
     "output_type": "stream",
     "text": [
      "Qualification     0\n",
      "Experience        0\n",
      "Rating            0\n",
      "Place             0\n",
      "Profile           0\n",
      "Fees              0\n",
      "Area              0\n",
      "City             26\n",
      "dtype: int64\n",
      "\n",
      " Qualification    0\n",
      "Experience       0\n",
      "Rating           0\n",
      "Place            0\n",
      "Profile          0\n",
      "Area             0\n",
      "City             6\n",
      "dtype: int64\n"
     ]
    }
   ],
   "source": [
    "print(train_data.isnull().sum())\n",
    "print('\\n',test_data.isnull().sum())"
   ]
  },
  {
   "cell_type": "code",
   "execution_count": 37,
   "metadata": {},
   "outputs": [],
   "source": [
    "# Handling null values in City\n",
    "\n",
    "# train_data\n",
    "train_data.City.fillna('Unknown',inplace=True)\n",
    "\n",
    "#test_data\n",
    "test_data.City.fillna('unknown',inplace=True)"
   ]
  },
  {
   "cell_type": "markdown",
   "metadata": {},
   "source": [
    "#### Converting Object into Numeric Form"
   ]
  },
  {
   "cell_type": "code",
   "execution_count": 38,
   "metadata": {},
   "outputs": [],
   "source": [
    "# Converting the data type of 'Experience' for both train and test dataset from object to float respectively.\n",
    "\n",
    "# train_data\n",
    "train_data[\"Experience\"]=train_data[\"Experience\"].astype('int64')\n",
    "\n",
    "#test_data\n",
    "test_data[\"Experience\"]=test_data[\"Experience\"].astype('int64')"
   ]
  },
  {
   "cell_type": "code",
   "execution_count": 39,
   "metadata": {},
   "outputs": [],
   "source": [
    "# Converting the 'Profile' into numeric by creating dummies.\n",
    "\n",
    "# train_data\n",
    "Train_profile=pd.get_dummies(train_data.Profile,drop_first=True)\n",
    "\n",
    "# test_data\n",
    "Test_profile=pd.get_dummies(test_data.Profile,drop_first=True)"
   ]
  },
  {
   "cell_type": "code",
   "execution_count": 40,
   "metadata": {},
   "outputs": [],
   "source": [
    "# Converting the 'City' into numeric by creating dummies.\n",
    "\n",
    "# train_data\n",
    "Train_City=pd.get_dummies(train_data.City,drop_first=True)\n",
    "\n",
    "# test_data\n",
    "Test_City=pd.get_dummies(test_data.City,drop_first=True)"
   ]
  },
  {
   "cell_type": "code",
   "execution_count": 41,
   "metadata": {},
   "outputs": [],
   "source": [
    "# Using the LabelEncoder in order to convert the Area and Qualification into numerical format\n",
    "\n",
    "from sklearn.preprocessing import LabelEncoder\n",
    "lb=LabelEncoder()\n",
    "\n",
    "# train_data\n",
    "train_data.Area=lb.fit_transform(train_data.Area)\n",
    "train_data.Qualification=lb.fit_transform(train_data.Qualification)\n",
    "\n",
    "# test_data\n",
    "test_data.Area=lb.fit_transform(test_data.Area)\n",
    "test_data.Qualification=lb.fit_transform(test_data.Qualification)"
   ]
  },
  {
   "cell_type": "code",
   "execution_count": 42,
   "metadata": {},
   "outputs": [],
   "source": [
    "# Let's now concat the dummie variables with numerical data and the columns whose dtypes has been changed and making a dataset with all valus being numerical in nature.\n",
    "\n",
    "# train_data\n",
    "train_data=pd.concat([train_data,Train_profile,Train_City],axis=1)\n",
    "\n",
    "# test_data\n",
    "test_data=pd.concat([test_data,Test_profile,Test_City],axis=1)"
   ]
  },
  {
   "cell_type": "code",
   "execution_count": 44,
   "metadata": {},
   "outputs": [],
   "source": [
    "pd.options.display.max_columns=None"
   ]
  },
  {
   "cell_type": "code",
   "execution_count": 45,
   "metadata": {},
   "outputs": [
    {
     "data": {
      "text/html": [
       "<div>\n",
       "<style scoped>\n",
       "    .dataframe tbody tr th:only-of-type {\n",
       "        vertical-align: middle;\n",
       "    }\n",
       "\n",
       "    .dataframe tbody tr th {\n",
       "        vertical-align: top;\n",
       "    }\n",
       "\n",
       "    .dataframe thead th {\n",
       "        text-align: right;\n",
       "    }\n",
       "</style>\n",
       "<table border=\"1\" class=\"dataframe\">\n",
       "  <thead>\n",
       "    <tr style=\"text-align: right;\">\n",
       "      <th></th>\n",
       "      <th>Qualification</th>\n",
       "      <th>Experience</th>\n",
       "      <th>Rating</th>\n",
       "      <th>Place</th>\n",
       "      <th>Profile</th>\n",
       "      <th>Fees</th>\n",
       "      <th>Area</th>\n",
       "      <th>City</th>\n",
       "      <th>Dentist</th>\n",
       "      <th>Dermatologists</th>\n",
       "      <th>ENT Specialist</th>\n",
       "      <th>General Medicine</th>\n",
       "      <th>Homeopath</th>\n",
       "      <th>Chennai</th>\n",
       "      <th>Coimbatore</th>\n",
       "      <th>Delhi</th>\n",
       "      <th>Ernakulam</th>\n",
       "      <th>Hyderabad</th>\n",
       "      <th>Mumbai</th>\n",
       "      <th>Thiruvananthapuram</th>\n",
       "      <th>Unknown</th>\n",
       "    </tr>\n",
       "  </thead>\n",
       "  <tbody>\n",
       "    <tr>\n",
       "      <th>0</th>\n",
       "      <td>401</td>\n",
       "      <td>24</td>\n",
       "      <td>100.0</td>\n",
       "      <td>Kakkanad, Ernakulam</td>\n",
       "      <td>Homeopath</td>\n",
       "      <td>100</td>\n",
       "      <td>296</td>\n",
       "      <td>Ernakulam</td>\n",
       "      <td>0</td>\n",
       "      <td>0</td>\n",
       "      <td>0</td>\n",
       "      <td>0</td>\n",
       "      <td>1</td>\n",
       "      <td>0</td>\n",
       "      <td>0</td>\n",
       "      <td>0</td>\n",
       "      <td>1</td>\n",
       "      <td>0</td>\n",
       "      <td>0</td>\n",
       "      <td>0</td>\n",
       "      <td>0</td>\n",
       "    </tr>\n",
       "    <tr>\n",
       "      <th>1</th>\n",
       "      <td>73</td>\n",
       "      <td>12</td>\n",
       "      <td>98.0</td>\n",
       "      <td>Whitefield, Bangalore</td>\n",
       "      <td>Ayurveda</td>\n",
       "      <td>350</td>\n",
       "      <td>856</td>\n",
       "      <td>Bangalore</td>\n",
       "      <td>0</td>\n",
       "      <td>0</td>\n",
       "      <td>0</td>\n",
       "      <td>0</td>\n",
       "      <td>0</td>\n",
       "      <td>0</td>\n",
       "      <td>0</td>\n",
       "      <td>0</td>\n",
       "      <td>0</td>\n",
       "      <td>0</td>\n",
       "      <td>0</td>\n",
       "      <td>0</td>\n",
       "      <td>0</td>\n",
       "    </tr>\n",
       "    <tr>\n",
       "      <th>2</th>\n",
       "      <td>1135</td>\n",
       "      <td>9</td>\n",
       "      <td>97.0</td>\n",
       "      <td>Mathikere - BEL, Bangalore</td>\n",
       "      <td>ENT Specialist</td>\n",
       "      <td>300</td>\n",
       "      <td>452</td>\n",
       "      <td>Bangalore</td>\n",
       "      <td>0</td>\n",
       "      <td>0</td>\n",
       "      <td>1</td>\n",
       "      <td>0</td>\n",
       "      <td>0</td>\n",
       "      <td>0</td>\n",
       "      <td>0</td>\n",
       "      <td>0</td>\n",
       "      <td>0</td>\n",
       "      <td>0</td>\n",
       "      <td>0</td>\n",
       "      <td>0</td>\n",
       "      <td>0</td>\n",
       "    </tr>\n",
       "    <tr>\n",
       "      <th>3</th>\n",
       "      <td>464</td>\n",
       "      <td>12</td>\n",
       "      <td>97.0</td>\n",
       "      <td>Bannerghatta Road, Bangalore</td>\n",
       "      <td>Ayurveda</td>\n",
       "      <td>250</td>\n",
       "      <td>68</td>\n",
       "      <td>Bangalore</td>\n",
       "      <td>0</td>\n",
       "      <td>0</td>\n",
       "      <td>0</td>\n",
       "      <td>0</td>\n",
       "      <td>0</td>\n",
       "      <td>0</td>\n",
       "      <td>0</td>\n",
       "      <td>0</td>\n",
       "      <td>0</td>\n",
       "      <td>0</td>\n",
       "      <td>0</td>\n",
       "      <td>0</td>\n",
       "      <td>0</td>\n",
       "    </tr>\n",
       "    <tr>\n",
       "      <th>4</th>\n",
       "      <td>10</td>\n",
       "      <td>20</td>\n",
       "      <td>100.0</td>\n",
       "      <td>Keelkattalai, Chennai</td>\n",
       "      <td>Ayurveda</td>\n",
       "      <td>250</td>\n",
       "      <td>335</td>\n",
       "      <td>Chennai</td>\n",
       "      <td>0</td>\n",
       "      <td>0</td>\n",
       "      <td>0</td>\n",
       "      <td>0</td>\n",
       "      <td>0</td>\n",
       "      <td>1</td>\n",
       "      <td>0</td>\n",
       "      <td>0</td>\n",
       "      <td>0</td>\n",
       "      <td>0</td>\n",
       "      <td>0</td>\n",
       "      <td>0</td>\n",
       "      <td>0</td>\n",
       "    </tr>\n",
       "  </tbody>\n",
       "</table>\n",
       "</div>"
      ],
      "text/plain": [
       "   Qualification  Experience  Rating                         Place  \\\n",
       "0            401          24   100.0           Kakkanad, Ernakulam   \n",
       "1             73          12    98.0         Whitefield, Bangalore   \n",
       "2           1135           9    97.0    Mathikere - BEL, Bangalore   \n",
       "3            464          12    97.0  Bannerghatta Road, Bangalore   \n",
       "4             10          20   100.0         Keelkattalai, Chennai   \n",
       "\n",
       "          Profile  Fees  Area        City  Dentist  Dermatologists  \\\n",
       "0       Homeopath   100   296   Ernakulam        0               0   \n",
       "1        Ayurveda   350   856   Bangalore        0               0   \n",
       "2  ENT Specialist   300   452   Bangalore        0               0   \n",
       "3        Ayurveda   250    68   Bangalore        0               0   \n",
       "4        Ayurveda   250   335     Chennai        0               0   \n",
       "\n",
       "   ENT Specialist  General Medicine  Homeopath   Chennai   Coimbatore   Delhi  \\\n",
       "0               0                 0          1         0            0       0   \n",
       "1               0                 0          0         0            0       0   \n",
       "2               1                 0          0         0            0       0   \n",
       "3               0                 0          0         0            0       0   \n",
       "4               0                 0          0         1            0       0   \n",
       "\n",
       "    Ernakulam   Hyderabad   Mumbai   Thiruvananthapuram  Unknown  \n",
       "0           1           0        0                    0        0  \n",
       "1           0           0        0                    0        0  \n",
       "2           0           0        0                    0        0  \n",
       "3           0           0        0                    0        0  \n",
       "4           0           0        0                    0        0  "
      ]
     },
     "execution_count": 45,
     "metadata": {},
     "output_type": "execute_result"
    }
   ],
   "source": [
    "train_data.head()"
   ]
  },
  {
   "cell_type": "code",
   "execution_count": 46,
   "metadata": {},
   "outputs": [
    {
     "data": {
      "text/plain": [
       "(5960, 21)"
      ]
     },
     "execution_count": 46,
     "metadata": {},
     "output_type": "execute_result"
    }
   ],
   "source": [
    "train_data.shape"
   ]
  },
  {
   "cell_type": "code",
   "execution_count": 47,
   "metadata": {},
   "outputs": [
    {
     "data": {
      "text/html": [
       "<div>\n",
       "<style scoped>\n",
       "    .dataframe tbody tr th:only-of-type {\n",
       "        vertical-align: middle;\n",
       "    }\n",
       "\n",
       "    .dataframe tbody tr th {\n",
       "        vertical-align: top;\n",
       "    }\n",
       "\n",
       "    .dataframe thead th {\n",
       "        text-align: right;\n",
       "    }\n",
       "</style>\n",
       "<table border=\"1\" class=\"dataframe\">\n",
       "  <thead>\n",
       "    <tr style=\"text-align: right;\">\n",
       "      <th></th>\n",
       "      <th>Qualification</th>\n",
       "      <th>Experience</th>\n",
       "      <th>Rating</th>\n",
       "      <th>Place</th>\n",
       "      <th>Profile</th>\n",
       "      <th>Area</th>\n",
       "      <th>City</th>\n",
       "      <th>Dentist</th>\n",
       "      <th>Dermatologists</th>\n",
       "      <th>ENT Specialist</th>\n",
       "      <th>General Medicine</th>\n",
       "      <th>Homeopath</th>\n",
       "      <th>Chennai</th>\n",
       "      <th>Coimbatore</th>\n",
       "      <th>Delhi</th>\n",
       "      <th>Ernakulam</th>\n",
       "      <th>Hyderabad</th>\n",
       "      <th>Mumbai</th>\n",
       "      <th>Thiruvananthapuram</th>\n",
       "      <th>unknown</th>\n",
       "    </tr>\n",
       "  </thead>\n",
       "  <tbody>\n",
       "    <tr>\n",
       "      <th>0</th>\n",
       "      <td>241</td>\n",
       "      <td>35</td>\n",
       "      <td>97.0</td>\n",
       "      <td>Ghatkopar East, Mumbai</td>\n",
       "      <td>General Medicine</td>\n",
       "      <td>142</td>\n",
       "      <td>Mumbai</td>\n",
       "      <td>0</td>\n",
       "      <td>0</td>\n",
       "      <td>0</td>\n",
       "      <td>1</td>\n",
       "      <td>0</td>\n",
       "      <td>0</td>\n",
       "      <td>0</td>\n",
       "      <td>0</td>\n",
       "      <td>0</td>\n",
       "      <td>0</td>\n",
       "      <td>1</td>\n",
       "      <td>0</td>\n",
       "      <td>0</td>\n",
       "    </tr>\n",
       "    <tr>\n",
       "      <th>1</th>\n",
       "      <td>340</td>\n",
       "      <td>31</td>\n",
       "      <td>97.0</td>\n",
       "      <td>West Marredpally, Hyderabad</td>\n",
       "      <td>ENT Specialist</td>\n",
       "      <td>578</td>\n",
       "      <td>Hyderabad</td>\n",
       "      <td>0</td>\n",
       "      <td>0</td>\n",
       "      <td>1</td>\n",
       "      <td>0</td>\n",
       "      <td>0</td>\n",
       "      <td>0</td>\n",
       "      <td>0</td>\n",
       "      <td>0</td>\n",
       "      <td>0</td>\n",
       "      <td>1</td>\n",
       "      <td>0</td>\n",
       "      <td>0</td>\n",
       "      <td>0</td>\n",
       "    </tr>\n",
       "    <tr>\n",
       "      <th>2</th>\n",
       "      <td>258</td>\n",
       "      <td>40</td>\n",
       "      <td>70.0</td>\n",
       "      <td>KK Nagar, Chennai</td>\n",
       "      <td>Dermatologists</td>\n",
       "      <td>212</td>\n",
       "      <td>Chennai</td>\n",
       "      <td>0</td>\n",
       "      <td>1</td>\n",
       "      <td>0</td>\n",
       "      <td>0</td>\n",
       "      <td>0</td>\n",
       "      <td>1</td>\n",
       "      <td>0</td>\n",
       "      <td>0</td>\n",
       "      <td>0</td>\n",
       "      <td>0</td>\n",
       "      <td>0</td>\n",
       "      <td>0</td>\n",
       "      <td>0</td>\n",
       "    </tr>\n",
       "    <tr>\n",
       "      <th>3</th>\n",
       "      <td>6</td>\n",
       "      <td>0</td>\n",
       "      <td>97.0</td>\n",
       "      <td>New Ashok Nagar, Delhi</td>\n",
       "      <td>Ayurveda</td>\n",
       "      <td>373</td>\n",
       "      <td>Delhi</td>\n",
       "      <td>0</td>\n",
       "      <td>0</td>\n",
       "      <td>0</td>\n",
       "      <td>0</td>\n",
       "      <td>0</td>\n",
       "      <td>0</td>\n",
       "      <td>0</td>\n",
       "      <td>1</td>\n",
       "      <td>0</td>\n",
       "      <td>0</td>\n",
       "      <td>0</td>\n",
       "      <td>0</td>\n",
       "      <td>0</td>\n",
       "    </tr>\n",
       "    <tr>\n",
       "      <th>4</th>\n",
       "      <td>79</td>\n",
       "      <td>16</td>\n",
       "      <td>100.0</td>\n",
       "      <td>Kanakpura Road, Bangalore</td>\n",
       "      <td>Dentist</td>\n",
       "      <td>231</td>\n",
       "      <td>Bangalore</td>\n",
       "      <td>1</td>\n",
       "      <td>0</td>\n",
       "      <td>0</td>\n",
       "      <td>0</td>\n",
       "      <td>0</td>\n",
       "      <td>0</td>\n",
       "      <td>0</td>\n",
       "      <td>0</td>\n",
       "      <td>0</td>\n",
       "      <td>0</td>\n",
       "      <td>0</td>\n",
       "      <td>0</td>\n",
       "      <td>0</td>\n",
       "    </tr>\n",
       "  </tbody>\n",
       "</table>\n",
       "</div>"
      ],
      "text/plain": [
       "   Qualification  Experience  Rating                        Place  \\\n",
       "0            241          35    97.0       Ghatkopar East, Mumbai   \n",
       "1            340          31    97.0  West Marredpally, Hyderabad   \n",
       "2            258          40    70.0            KK Nagar, Chennai   \n",
       "3              6           0    97.0       New Ashok Nagar, Delhi   \n",
       "4             79          16   100.0    Kanakpura Road, Bangalore   \n",
       "\n",
       "            Profile  Area        City  Dentist  Dermatologists  \\\n",
       "0  General Medicine   142      Mumbai        0               0   \n",
       "1    ENT Specialist   578   Hyderabad        0               0   \n",
       "2    Dermatologists   212     Chennai        0               1   \n",
       "3          Ayurveda   373       Delhi        0               0   \n",
       "4           Dentist   231   Bangalore        1               0   \n",
       "\n",
       "   ENT Specialist  General Medicine  Homeopath   Chennai   Coimbatore   Delhi  \\\n",
       "0               0                 1          0         0            0       0   \n",
       "1               1                 0          0         0            0       0   \n",
       "2               0                 0          0         1            0       0   \n",
       "3               0                 0          0         0            0       1   \n",
       "4               0                 0          0         0            0       0   \n",
       "\n",
       "    Ernakulam   Hyderabad   Mumbai   Thiruvananthapuram  unknown  \n",
       "0           0           0        1                    0        0  \n",
       "1           0           1        0                    0        0  \n",
       "2           0           0        0                    0        0  \n",
       "3           0           0        0                    0        0  \n",
       "4           0           0        0                    0        0  "
      ]
     },
     "execution_count": 47,
     "metadata": {},
     "output_type": "execute_result"
    }
   ],
   "source": [
    "test_data.head()"
   ]
  },
  {
   "cell_type": "code",
   "execution_count": 48,
   "metadata": {},
   "outputs": [
    {
     "data": {
      "text/plain": [
       "(1987, 20)"
      ]
     },
     "execution_count": 48,
     "metadata": {},
     "output_type": "execute_result"
    }
   ],
   "source": [
    "test_data.shape"
   ]
  },
  {
   "cell_type": "code",
   "execution_count": 49,
   "metadata": {},
   "outputs": [],
   "source": [
    "# Dropping Place,Profile and City columns\n",
    "\n",
    "# train_data\n",
    "train_data.drop(columns=['Place','City','Profile'],inplace=True)\n",
    "\n",
    "# test_data\n",
    "test_data.drop(columns=['Place','City','Profile'],inplace=True)"
   ]
  },
  {
   "cell_type": "markdown",
   "metadata": {},
   "source": [
    "Checking Data Types "
   ]
  },
  {
   "cell_type": "code",
   "execution_count": 50,
   "metadata": {},
   "outputs": [
    {
     "data": {
      "text/plain": [
       "Qualification            int32\n",
       "Experience               int64\n",
       "Rating                 float64\n",
       "Fees                     int64\n",
       "Area                     int32\n",
       "Dentist                  uint8\n",
       "Dermatologists           uint8\n",
       "ENT Specialist           uint8\n",
       "General Medicine         uint8\n",
       "Homeopath                uint8\n",
       " Chennai                 uint8\n",
       " Coimbatore              uint8\n",
       " Delhi                   uint8\n",
       " Ernakulam               uint8\n",
       " Hyderabad               uint8\n",
       " Mumbai                  uint8\n",
       " Thiruvananthapuram      uint8\n",
       "Unknown                  uint8\n",
       "dtype: object"
      ]
     },
     "execution_count": 50,
     "metadata": {},
     "output_type": "execute_result"
    }
   ],
   "source": [
    "train_data.dtypes"
   ]
  },
  {
   "cell_type": "code",
   "execution_count": 51,
   "metadata": {},
   "outputs": [
    {
     "data": {
      "text/plain": [
       "Qualification            int32\n",
       "Experience               int64\n",
       "Rating                 float64\n",
       "Area                     int32\n",
       "Dentist                  uint8\n",
       "Dermatologists           uint8\n",
       "ENT Specialist           uint8\n",
       "General Medicine         uint8\n",
       "Homeopath                uint8\n",
       " Chennai                 uint8\n",
       " Coimbatore              uint8\n",
       " Delhi                   uint8\n",
       " Ernakulam               uint8\n",
       " Hyderabad               uint8\n",
       " Mumbai                  uint8\n",
       " Thiruvananthapuram      uint8\n",
       "unknown                  uint8\n",
       "dtype: object"
      ]
     },
     "execution_count": 51,
     "metadata": {},
     "output_type": "execute_result"
    }
   ],
   "source": [
    "test_data.dtypes"
   ]
  },
  {
   "cell_type": "markdown",
   "metadata": {},
   "source": [
    "#### Statistical Summary"
   ]
  },
  {
   "cell_type": "code",
   "execution_count": 52,
   "metadata": {},
   "outputs": [
    {
     "data": {
      "text/html": [
       "<div>\n",
       "<style scoped>\n",
       "    .dataframe tbody tr th:only-of-type {\n",
       "        vertical-align: middle;\n",
       "    }\n",
       "\n",
       "    .dataframe tbody tr th {\n",
       "        vertical-align: top;\n",
       "    }\n",
       "\n",
       "    .dataframe thead th {\n",
       "        text-align: right;\n",
       "    }\n",
       "</style>\n",
       "<table border=\"1\" class=\"dataframe\">\n",
       "  <thead>\n",
       "    <tr style=\"text-align: right;\">\n",
       "      <th></th>\n",
       "      <th>Qualification</th>\n",
       "      <th>Experience</th>\n",
       "      <th>Rating</th>\n",
       "      <th>Fees</th>\n",
       "      <th>Area</th>\n",
       "      <th>Dentist</th>\n",
       "      <th>Dermatologists</th>\n",
       "      <th>ENT Specialist</th>\n",
       "      <th>General Medicine</th>\n",
       "      <th>Homeopath</th>\n",
       "      <th>Chennai</th>\n",
       "      <th>Coimbatore</th>\n",
       "      <th>Delhi</th>\n",
       "      <th>Ernakulam</th>\n",
       "      <th>Hyderabad</th>\n",
       "      <th>Mumbai</th>\n",
       "      <th>Thiruvananthapuram</th>\n",
       "      <th>Unknown</th>\n",
       "    </tr>\n",
       "  </thead>\n",
       "  <tbody>\n",
       "    <tr>\n",
       "      <th>count</th>\n",
       "      <td>5960.000000</td>\n",
       "      <td>5960.000000</td>\n",
       "      <td>5960.000000</td>\n",
       "      <td>5960.000000</td>\n",
       "      <td>5960.000000</td>\n",
       "      <td>5960.000000</td>\n",
       "      <td>5960.000000</td>\n",
       "      <td>5960.000000</td>\n",
       "      <td>5960.000000</td>\n",
       "      <td>5960.000000</td>\n",
       "      <td>5960.000000</td>\n",
       "      <td>5960.000000</td>\n",
       "      <td>5960.000000</td>\n",
       "      <td>5960.000000</td>\n",
       "      <td>5960.000000</td>\n",
       "      <td>5960.000000</td>\n",
       "      <td>5960.000000</td>\n",
       "      <td>5960.000000</td>\n",
       "    </tr>\n",
       "    <tr>\n",
       "      <th>mean</th>\n",
       "      <td>596.935235</td>\n",
       "      <td>17.305034</td>\n",
       "      <td>95.948658</td>\n",
       "      <td>307.954362</td>\n",
       "      <td>411.814933</td>\n",
       "      <td>0.234228</td>\n",
       "      <td>0.173490</td>\n",
       "      <td>0.122148</td>\n",
       "      <td>0.196812</td>\n",
       "      <td>0.141443</td>\n",
       "      <td>0.143456</td>\n",
       "      <td>0.038255</td>\n",
       "      <td>0.198658</td>\n",
       "      <td>0.025671</td>\n",
       "      <td>0.159564</td>\n",
       "      <td>0.204530</td>\n",
       "      <td>0.014430</td>\n",
       "      <td>0.004362</td>\n",
       "    </tr>\n",
       "    <tr>\n",
       "      <th>std</th>\n",
       "      <td>413.833727</td>\n",
       "      <td>11.143434</td>\n",
       "      <td>5.373892</td>\n",
       "      <td>190.934916</td>\n",
       "      <td>255.424691</td>\n",
       "      <td>0.423551</td>\n",
       "      <td>0.378702</td>\n",
       "      <td>0.327484</td>\n",
       "      <td>0.397622</td>\n",
       "      <td>0.348507</td>\n",
       "      <td>0.350567</td>\n",
       "      <td>0.191827</td>\n",
       "      <td>0.399023</td>\n",
       "      <td>0.158166</td>\n",
       "      <td>0.366232</td>\n",
       "      <td>0.403392</td>\n",
       "      <td>0.119263</td>\n",
       "      <td>0.065910</td>\n",
       "    </tr>\n",
       "    <tr>\n",
       "      <th>min</th>\n",
       "      <td>0.000000</td>\n",
       "      <td>0.000000</td>\n",
       "      <td>7.000000</td>\n",
       "      <td>5.000000</td>\n",
       "      <td>0.000000</td>\n",
       "      <td>0.000000</td>\n",
       "      <td>0.000000</td>\n",
       "      <td>0.000000</td>\n",
       "      <td>0.000000</td>\n",
       "      <td>0.000000</td>\n",
       "      <td>0.000000</td>\n",
       "      <td>0.000000</td>\n",
       "      <td>0.000000</td>\n",
       "      <td>0.000000</td>\n",
       "      <td>0.000000</td>\n",
       "      <td>0.000000</td>\n",
       "      <td>0.000000</td>\n",
       "      <td>0.000000</td>\n",
       "    </tr>\n",
       "    <tr>\n",
       "      <th>25%</th>\n",
       "      <td>219.000000</td>\n",
       "      <td>9.000000</td>\n",
       "      <td>97.000000</td>\n",
       "      <td>150.000000</td>\n",
       "      <td>195.000000</td>\n",
       "      <td>0.000000</td>\n",
       "      <td>0.000000</td>\n",
       "      <td>0.000000</td>\n",
       "      <td>0.000000</td>\n",
       "      <td>0.000000</td>\n",
       "      <td>0.000000</td>\n",
       "      <td>0.000000</td>\n",
       "      <td>0.000000</td>\n",
       "      <td>0.000000</td>\n",
       "      <td>0.000000</td>\n",
       "      <td>0.000000</td>\n",
       "      <td>0.000000</td>\n",
       "      <td>0.000000</td>\n",
       "    </tr>\n",
       "    <tr>\n",
       "      <th>50%</th>\n",
       "      <td>596.000000</td>\n",
       "      <td>14.000000</td>\n",
       "      <td>97.000000</td>\n",
       "      <td>300.000000</td>\n",
       "      <td>409.000000</td>\n",
       "      <td>0.000000</td>\n",
       "      <td>0.000000</td>\n",
       "      <td>0.000000</td>\n",
       "      <td>0.000000</td>\n",
       "      <td>0.000000</td>\n",
       "      <td>0.000000</td>\n",
       "      <td>0.000000</td>\n",
       "      <td>0.000000</td>\n",
       "      <td>0.000000</td>\n",
       "      <td>0.000000</td>\n",
       "      <td>0.000000</td>\n",
       "      <td>0.000000</td>\n",
       "      <td>0.000000</td>\n",
       "    </tr>\n",
       "    <tr>\n",
       "      <th>75%</th>\n",
       "      <td>943.000000</td>\n",
       "      <td>23.000000</td>\n",
       "      <td>97.000000</td>\n",
       "      <td>500.000000</td>\n",
       "      <td>623.000000</td>\n",
       "      <td>0.000000</td>\n",
       "      <td>0.000000</td>\n",
       "      <td>0.000000</td>\n",
       "      <td>0.000000</td>\n",
       "      <td>0.000000</td>\n",
       "      <td>0.000000</td>\n",
       "      <td>0.000000</td>\n",
       "      <td>0.000000</td>\n",
       "      <td>0.000000</td>\n",
       "      <td>0.000000</td>\n",
       "      <td>0.000000</td>\n",
       "      <td>0.000000</td>\n",
       "      <td>0.000000</td>\n",
       "    </tr>\n",
       "    <tr>\n",
       "      <th>max</th>\n",
       "      <td>1419.000000</td>\n",
       "      <td>66.000000</td>\n",
       "      <td>100.000000</td>\n",
       "      <td>950.000000</td>\n",
       "      <td>866.000000</td>\n",
       "      <td>1.000000</td>\n",
       "      <td>1.000000</td>\n",
       "      <td>1.000000</td>\n",
       "      <td>1.000000</td>\n",
       "      <td>1.000000</td>\n",
       "      <td>1.000000</td>\n",
       "      <td>1.000000</td>\n",
       "      <td>1.000000</td>\n",
       "      <td>1.000000</td>\n",
       "      <td>1.000000</td>\n",
       "      <td>1.000000</td>\n",
       "      <td>1.000000</td>\n",
       "      <td>1.000000</td>\n",
       "    </tr>\n",
       "  </tbody>\n",
       "</table>\n",
       "</div>"
      ],
      "text/plain": [
       "       Qualification   Experience       Rating         Fees         Area  \\\n",
       "count    5960.000000  5960.000000  5960.000000  5960.000000  5960.000000   \n",
       "mean      596.935235    17.305034    95.948658   307.954362   411.814933   \n",
       "std       413.833727    11.143434     5.373892   190.934916   255.424691   \n",
       "min         0.000000     0.000000     7.000000     5.000000     0.000000   \n",
       "25%       219.000000     9.000000    97.000000   150.000000   195.000000   \n",
       "50%       596.000000    14.000000    97.000000   300.000000   409.000000   \n",
       "75%       943.000000    23.000000    97.000000   500.000000   623.000000   \n",
       "max      1419.000000    66.000000   100.000000   950.000000   866.000000   \n",
       "\n",
       "           Dentist  Dermatologists  ENT Specialist  General Medicine  \\\n",
       "count  5960.000000     5960.000000     5960.000000       5960.000000   \n",
       "mean      0.234228        0.173490        0.122148          0.196812   \n",
       "std       0.423551        0.378702        0.327484          0.397622   \n",
       "min       0.000000        0.000000        0.000000          0.000000   \n",
       "25%       0.000000        0.000000        0.000000          0.000000   \n",
       "50%       0.000000        0.000000        0.000000          0.000000   \n",
       "75%       0.000000        0.000000        0.000000          0.000000   \n",
       "max       1.000000        1.000000        1.000000          1.000000   \n",
       "\n",
       "         Homeopath      Chennai   Coimbatore        Delhi    Ernakulam  \\\n",
       "count  5960.000000  5960.000000  5960.000000  5960.000000  5960.000000   \n",
       "mean      0.141443     0.143456     0.038255     0.198658     0.025671   \n",
       "std       0.348507     0.350567     0.191827     0.399023     0.158166   \n",
       "min       0.000000     0.000000     0.000000     0.000000     0.000000   \n",
       "25%       0.000000     0.000000     0.000000     0.000000     0.000000   \n",
       "50%       0.000000     0.000000     0.000000     0.000000     0.000000   \n",
       "75%       0.000000     0.000000     0.000000     0.000000     0.000000   \n",
       "max       1.000000     1.000000     1.000000     1.000000     1.000000   \n",
       "\n",
       "         Hyderabad       Mumbai   Thiruvananthapuram      Unknown  \n",
       "count  5960.000000  5960.000000          5960.000000  5960.000000  \n",
       "mean      0.159564     0.204530             0.014430     0.004362  \n",
       "std       0.366232     0.403392             0.119263     0.065910  \n",
       "min       0.000000     0.000000             0.000000     0.000000  \n",
       "25%       0.000000     0.000000             0.000000     0.000000  \n",
       "50%       0.000000     0.000000             0.000000     0.000000  \n",
       "75%       0.000000     0.000000             0.000000     0.000000  \n",
       "max       1.000000     1.000000             1.000000     1.000000  "
      ]
     },
     "execution_count": 52,
     "metadata": {},
     "output_type": "execute_result"
    }
   ],
   "source": [
    "train_data.describe()"
   ]
  },
  {
   "cell_type": "code",
   "execution_count": 53,
   "metadata": {},
   "outputs": [
    {
     "data": {
      "text/html": [
       "<div>\n",
       "<style scoped>\n",
       "    .dataframe tbody tr th:only-of-type {\n",
       "        vertical-align: middle;\n",
       "    }\n",
       "\n",
       "    .dataframe tbody tr th {\n",
       "        vertical-align: top;\n",
       "    }\n",
       "\n",
       "    .dataframe thead th {\n",
       "        text-align: right;\n",
       "    }\n",
       "</style>\n",
       "<table border=\"1\" class=\"dataframe\">\n",
       "  <thead>\n",
       "    <tr style=\"text-align: right;\">\n",
       "      <th></th>\n",
       "      <th>Qualification</th>\n",
       "      <th>Experience</th>\n",
       "      <th>Rating</th>\n",
       "      <th>Area</th>\n",
       "      <th>Dentist</th>\n",
       "      <th>Dermatologists</th>\n",
       "      <th>ENT Specialist</th>\n",
       "      <th>General Medicine</th>\n",
       "      <th>Homeopath</th>\n",
       "      <th>Chennai</th>\n",
       "      <th>Coimbatore</th>\n",
       "      <th>Delhi</th>\n",
       "      <th>Ernakulam</th>\n",
       "      <th>Hyderabad</th>\n",
       "      <th>Mumbai</th>\n",
       "      <th>Thiruvananthapuram</th>\n",
       "      <th>unknown</th>\n",
       "    </tr>\n",
       "  </thead>\n",
       "  <tbody>\n",
       "    <tr>\n",
       "      <th>count</th>\n",
       "      <td>1987.000000</td>\n",
       "      <td>1987.000000</td>\n",
       "      <td>1987.000000</td>\n",
       "      <td>1987.000000</td>\n",
       "      <td>1987.000000</td>\n",
       "      <td>1987.000000</td>\n",
       "      <td>1987.000000</td>\n",
       "      <td>1987.000000</td>\n",
       "      <td>1987.000000</td>\n",
       "      <td>1987.000000</td>\n",
       "      <td>1987.000000</td>\n",
       "      <td>1987.000000</td>\n",
       "      <td>1987.000000</td>\n",
       "      <td>1987.000000</td>\n",
       "      <td>1987.000000</td>\n",
       "      <td>1987.000000</td>\n",
       "      <td>1987.000000</td>\n",
       "    </tr>\n",
       "    <tr>\n",
       "      <th>mean</th>\n",
       "      <td>259.979869</td>\n",
       "      <td>17.874685</td>\n",
       "      <td>95.844992</td>\n",
       "      <td>289.648213</td>\n",
       "      <td>0.221943</td>\n",
       "      <td>0.170609</td>\n",
       "      <td>0.118269</td>\n",
       "      <td>0.223452</td>\n",
       "      <td>0.139406</td>\n",
       "      <td>0.144439</td>\n",
       "      <td>0.035229</td>\n",
       "      <td>0.209864</td>\n",
       "      <td>0.024157</td>\n",
       "      <td>0.167589</td>\n",
       "      <td>0.195773</td>\n",
       "      <td>0.008556</td>\n",
       "      <td>0.003020</td>\n",
       "    </tr>\n",
       "    <tr>\n",
       "      <th>std</th>\n",
       "      <td>185.961177</td>\n",
       "      <td>11.366764</td>\n",
       "      <td>5.246600</td>\n",
       "      <td>173.263142</td>\n",
       "      <td>0.415657</td>\n",
       "      <td>0.376262</td>\n",
       "      <td>0.323007</td>\n",
       "      <td>0.416664</td>\n",
       "      <td>0.346457</td>\n",
       "      <td>0.351623</td>\n",
       "      <td>0.184405</td>\n",
       "      <td>0.407314</td>\n",
       "      <td>0.153575</td>\n",
       "      <td>0.373595</td>\n",
       "      <td>0.396894</td>\n",
       "      <td>0.092123</td>\n",
       "      <td>0.054882</td>\n",
       "    </tr>\n",
       "    <tr>\n",
       "      <th>min</th>\n",
       "      <td>0.000000</td>\n",
       "      <td>0.000000</td>\n",
       "      <td>52.000000</td>\n",
       "      <td>0.000000</td>\n",
       "      <td>0.000000</td>\n",
       "      <td>0.000000</td>\n",
       "      <td>0.000000</td>\n",
       "      <td>0.000000</td>\n",
       "      <td>0.000000</td>\n",
       "      <td>0.000000</td>\n",
       "      <td>0.000000</td>\n",
       "      <td>0.000000</td>\n",
       "      <td>0.000000</td>\n",
       "      <td>0.000000</td>\n",
       "      <td>0.000000</td>\n",
       "      <td>0.000000</td>\n",
       "      <td>0.000000</td>\n",
       "    </tr>\n",
       "    <tr>\n",
       "      <th>25%</th>\n",
       "      <td>93.000000</td>\n",
       "      <td>9.000000</td>\n",
       "      <td>97.000000</td>\n",
       "      <td>138.500000</td>\n",
       "      <td>0.000000</td>\n",
       "      <td>0.000000</td>\n",
       "      <td>0.000000</td>\n",
       "      <td>0.000000</td>\n",
       "      <td>0.000000</td>\n",
       "      <td>0.000000</td>\n",
       "      <td>0.000000</td>\n",
       "      <td>0.000000</td>\n",
       "      <td>0.000000</td>\n",
       "      <td>0.000000</td>\n",
       "      <td>0.000000</td>\n",
       "      <td>0.000000</td>\n",
       "      <td>0.000000</td>\n",
       "    </tr>\n",
       "    <tr>\n",
       "      <th>50%</th>\n",
       "      <td>241.000000</td>\n",
       "      <td>15.000000</td>\n",
       "      <td>97.000000</td>\n",
       "      <td>294.000000</td>\n",
       "      <td>0.000000</td>\n",
       "      <td>0.000000</td>\n",
       "      <td>0.000000</td>\n",
       "      <td>0.000000</td>\n",
       "      <td>0.000000</td>\n",
       "      <td>0.000000</td>\n",
       "      <td>0.000000</td>\n",
       "      <td>0.000000</td>\n",
       "      <td>0.000000</td>\n",
       "      <td>0.000000</td>\n",
       "      <td>0.000000</td>\n",
       "      <td>0.000000</td>\n",
       "      <td>0.000000</td>\n",
       "    </tr>\n",
       "    <tr>\n",
       "      <th>75%</th>\n",
       "      <td>417.000000</td>\n",
       "      <td>24.000000</td>\n",
       "      <td>97.000000</td>\n",
       "      <td>439.000000</td>\n",
       "      <td>0.000000</td>\n",
       "      <td>0.000000</td>\n",
       "      <td>0.000000</td>\n",
       "      <td>0.000000</td>\n",
       "      <td>0.000000</td>\n",
       "      <td>0.000000</td>\n",
       "      <td>0.000000</td>\n",
       "      <td>0.000000</td>\n",
       "      <td>0.000000</td>\n",
       "      <td>0.000000</td>\n",
       "      <td>0.000000</td>\n",
       "      <td>0.000000</td>\n",
       "      <td>0.000000</td>\n",
       "    </tr>\n",
       "    <tr>\n",
       "      <th>max</th>\n",
       "      <td>629.000000</td>\n",
       "      <td>65.000000</td>\n",
       "      <td>100.000000</td>\n",
       "      <td>589.000000</td>\n",
       "      <td>1.000000</td>\n",
       "      <td>1.000000</td>\n",
       "      <td>1.000000</td>\n",
       "      <td>1.000000</td>\n",
       "      <td>1.000000</td>\n",
       "      <td>1.000000</td>\n",
       "      <td>1.000000</td>\n",
       "      <td>1.000000</td>\n",
       "      <td>1.000000</td>\n",
       "      <td>1.000000</td>\n",
       "      <td>1.000000</td>\n",
       "      <td>1.000000</td>\n",
       "      <td>1.000000</td>\n",
       "    </tr>\n",
       "  </tbody>\n",
       "</table>\n",
       "</div>"
      ],
      "text/plain": [
       "       Qualification   Experience       Rating         Area      Dentist  \\\n",
       "count    1987.000000  1987.000000  1987.000000  1987.000000  1987.000000   \n",
       "mean      259.979869    17.874685    95.844992   289.648213     0.221943   \n",
       "std       185.961177    11.366764     5.246600   173.263142     0.415657   \n",
       "min         0.000000     0.000000    52.000000     0.000000     0.000000   \n",
       "25%        93.000000     9.000000    97.000000   138.500000     0.000000   \n",
       "50%       241.000000    15.000000    97.000000   294.000000     0.000000   \n",
       "75%       417.000000    24.000000    97.000000   439.000000     0.000000   \n",
       "max       629.000000    65.000000   100.000000   589.000000     1.000000   \n",
       "\n",
       "       Dermatologists  ENT Specialist  General Medicine    Homeopath  \\\n",
       "count     1987.000000     1987.000000       1987.000000  1987.000000   \n",
       "mean         0.170609        0.118269          0.223452     0.139406   \n",
       "std          0.376262        0.323007          0.416664     0.346457   \n",
       "min          0.000000        0.000000          0.000000     0.000000   \n",
       "25%          0.000000        0.000000          0.000000     0.000000   \n",
       "50%          0.000000        0.000000          0.000000     0.000000   \n",
       "75%          0.000000        0.000000          0.000000     0.000000   \n",
       "max          1.000000        1.000000          1.000000     1.000000   \n",
       "\n",
       "           Chennai   Coimbatore        Delhi    Ernakulam    Hyderabad  \\\n",
       "count  1987.000000  1987.000000  1987.000000  1987.000000  1987.000000   \n",
       "mean      0.144439     0.035229     0.209864     0.024157     0.167589   \n",
       "std       0.351623     0.184405     0.407314     0.153575     0.373595   \n",
       "min       0.000000     0.000000     0.000000     0.000000     0.000000   \n",
       "25%       0.000000     0.000000     0.000000     0.000000     0.000000   \n",
       "50%       0.000000     0.000000     0.000000     0.000000     0.000000   \n",
       "75%       0.000000     0.000000     0.000000     0.000000     0.000000   \n",
       "max       1.000000     1.000000     1.000000     1.000000     1.000000   \n",
       "\n",
       "            Mumbai   Thiruvananthapuram      unknown  \n",
       "count  1987.000000          1987.000000  1987.000000  \n",
       "mean      0.195773             0.008556     0.003020  \n",
       "std       0.396894             0.092123     0.054882  \n",
       "min       0.000000             0.000000     0.000000  \n",
       "25%       0.000000             0.000000     0.000000  \n",
       "50%       0.000000             0.000000     0.000000  \n",
       "75%       0.000000             0.000000     0.000000  \n",
       "max       1.000000             1.000000     1.000000  "
      ]
     },
     "execution_count": 53,
     "metadata": {},
     "output_type": "execute_result"
    }
   ],
   "source": [
    "test_data.describe()"
   ]
  },
  {
   "cell_type": "markdown",
   "metadata": {},
   "source": [
    "#### Handling Outliers and Skewness"
   ]
  },
  {
   "cell_type": "markdown",
   "metadata": {},
   "source": [
    "Train Data"
   ]
  },
  {
   "cell_type": "code",
   "execution_count": 58,
   "metadata": {},
   "outputs": [
    {
     "data": {
      "image/png": "[encoded data removed]",
      "text/plain": [
       "<Figure size 1080x864 with 18 Axes>"
      ]
     },
     "metadata": {},
     "output_type": "display_data"
    }
   ],
   "source": [
    "plt.figure(figsize=(15,12))\n",
    "\n",
    "for x,col in enumerate(train_data.columns):\n",
    "    \n",
    "    plt.subplot(6,4,x+1)\n",
    "    sns.boxplot(train_data[col])\n",
    "    plt.tight_layout()"
   ]
  },
  {
   "cell_type": "code",
   "execution_count": 59,
   "metadata": {},
   "outputs": [
    {
     "data": {
      "image/png": "[encoded data removed]",
      "text/plain": [
       "<Figure size 1080x864 with 18 Axes>"
      ]
     },
     "metadata": {},
     "output_type": "display_data"
    }
   ],
   "source": [
    "plt.figure(figsize=(15,12))\n",
    "\n",
    "for x,col in enumerate(train_data.columns):\n",
    "    \n",
    "    plt.subplot(6,4,x+1)\n",
    "    sns.distplot(train_data[col])\n",
    "    plt.tight_layout()"
   ]
  },
  {
   "cell_type": "code",
   "execution_count": 60,
   "metadata": {},
   "outputs": [
    {
     "data": {
      "text/plain": [
       "Qualification           0.239447\n",
       "Experience              0.990832\n",
       "Rating                 -5.256761\n",
       "Fees                    0.751676\n",
       "Area                    0.109198\n",
       "Dentist                 1.255391\n",
       "Dermatologists          1.724943\n",
       "ENT Specialist          2.308384\n",
       "General Medicine        1.525516\n",
       "Homeopath               2.058365\n",
       " Chennai                2.034779\n",
       " Coimbatore             4.815787\n",
       " Delhi                  1.510907\n",
       " Ernakulam              5.999893\n",
       " Hyderabad              1.859754\n",
       " Mumbai                 1.465419\n",
       " Thiruvananthapuram     8.145573\n",
       "Unknown                15.044902\n",
       "dtype: float64"
      ]
     },
     "execution_count": 60,
     "metadata": {},
     "output_type": "execute_result"
    }
   ],
   "source": [
    "# Checking skewness of data\n",
    "\n",
    "train_data.skew()"
   ]
  },
  {
   "cell_type": "code",
   "execution_count": 61,
   "metadata": {},
   "outputs": [
    {
     "name": "stdout",
     "output_type": "stream",
     "text": [
      "(5960, 18)\n",
      "(5281, 18)\n"
     ]
    }
   ],
   "source": [
    "# Handling Outliers\n",
    "\n",
    "from scipy.stats import zscore\n",
    "\n",
    "z = np.abs(zscore(train_data))\n",
    "print(train_data.shape)\n",
    "\n",
    "# Removing the outliers.\n",
    "\n",
    "train_data = train_data.loc[(z<3).all(axis=1)]\n",
    "print(train_data.shape)"
   ]
  },
  {
   "cell_type": "markdown",
   "metadata": {},
   "source": [
    "679 rows have been removed as outlier"
   ]
  },
  {
   "cell_type": "code",
   "execution_count": 63,
   "metadata": {},
   "outputs": [],
   "source": [
    "# Treating the skewness with sqrt function.\n",
    "\n",
    "for col in train_data.columns:\n",
    "    if train_data.skew().loc[col]>0.55:\n",
    "        train_data[col]=np.sqrt(train_data[col])"
   ]
  },
  {
   "cell_type": "markdown",
   "metadata": {},
   "source": [
    "Test Data"
   ]
  },
  {
   "cell_type": "code",
   "execution_count": 65,
   "metadata": {},
   "outputs": [
    {
     "data": {
      "image/png": "[encoded data removed]",
      "text/plain": [
       "<Figure size 1080x864 with 17 Axes>"
      ]
     },
     "metadata": {},
     "output_type": "display_data"
    }
   ],
   "source": [
    "plt.figure(figsize=(15,12))\n",
    "\n",
    "for x,col in enumerate(test_data.columns):\n",
    "    \n",
    "    plt.subplot(6,4,x+1)\n",
    "    sns.boxplot(test_data[col])\n",
    "    plt.tight_layout()"
   ]
  },
  {
   "cell_type": "code",
   "execution_count": 66,
   "metadata": {},
   "outputs": [
    {
     "data": {
      "image/png": "[encoded data removed]",
      "text/plain": [
       "<Figure size 1080x864 with 17 Axes>"
      ]
     },
     "metadata": {},
     "output_type": "display_data"
    }
   ],
   "source": [
    "plt.figure(figsize=(15,12))\n",
    "\n",
    "for x,col in enumerate(test_data.columns):\n",
    "    \n",
    "    plt.subplot(6,4,x+1)\n",
    "    sns.distplot(test_data[col])\n",
    "    plt.tight_layout()"
   ]
  },
  {
   "cell_type": "code",
   "execution_count": 67,
   "metadata": {},
   "outputs": [
    {
     "data": {
      "text/plain": [
       "Qualification           0.280822\n",
       "Experience              0.963447\n",
       "Rating                 -4.235921\n",
       "Area                    0.036663\n",
       "Dentist                 1.339264\n",
       "Dermatologists          1.752626\n",
       "ENT Specialist          2.365989\n",
       "General Medicine        1.328775\n",
       "Homeopath               2.083705\n",
       " Chennai                2.024439\n",
       " Coimbatore             5.045856\n",
       " Delhi                  1.426066\n",
       " Ernakulam              6.203118\n",
       " Hyderabad              1.781316\n",
       " Mumbai                 1.534586\n",
       " Thiruvananthapuram    10.680036\n",
       "unknown                18.129143\n",
       "dtype: float64"
      ]
     },
     "execution_count": 67,
     "metadata": {},
     "output_type": "execute_result"
    }
   ],
   "source": [
    "# Checking skewness of data\n",
    "\n",
    "test_data.skew()"
   ]
  },
  {
   "cell_type": "code",
   "execution_count": 68,
   "metadata": {},
   "outputs": [
    {
     "name": "stdout",
     "output_type": "stream",
     "text": [
      "(1987, 17)\n",
      "(1788, 17)\n"
     ]
    }
   ],
   "source": [
    "# Handling Outliers\n",
    "\n",
    "from scipy.stats import zscore\n",
    "\n",
    "z = np.abs(zscore(test_data))\n",
    "print(test_data.shape)\n",
    "\n",
    "# Removing the outliers.\n",
    "\n",
    "test_data = test_data.loc[(z<3).all(axis=1)]\n",
    "print(test_data.shape)"
   ]
  },
  {
   "cell_type": "markdown",
   "metadata": {},
   "source": [
    "199 rows has been removed as outliers"
   ]
  },
  {
   "cell_type": "code",
   "execution_count": 70,
   "metadata": {},
   "outputs": [],
   "source": [
    "# Treating the skewness with sqrt function.\n",
    "\n",
    "for col in test_data.columns:\n",
    "    if test_data.skew().loc[col]>0.55:\n",
    "        test_data[col]=np.sqrt(test_data[col])"
   ]
  },
  {
   "cell_type": "markdown",
   "metadata": {},
   "source": [
    "The cleaning of the data is done. So now, let's move further and do the testing and training of data by splitting the target and rest variables and selecting the best model through various algorithms and evaluation can be done"
   ]
  },
  {
   "cell_type": "markdown",
   "metadata": {},
   "source": [
    "#### Splitting Data into Input and output"
   ]
  },
  {
   "cell_type": "code",
   "execution_count": 72,
   "metadata": {},
   "outputs": [
    {
     "name": "stdout",
     "output_type": "stream",
     "text": [
      "(5281, 17)\n",
      "(5281, 1)\n"
     ]
    }
   ],
   "source": [
    "xdata=train_data.drop(columns=['Fees'])\n",
    "print(xdata.shape)\n",
    "ydata=train_data[['Fees']]\n",
    "print(ydata.shape)"
   ]
  },
  {
   "cell_type": "markdown",
   "metadata": {},
   "source": [
    "#### Scaling the Input data"
   ]
  },
  {
   "cell_type": "code",
   "execution_count": 73,
   "metadata": {},
   "outputs": [
    {
     "data": {
      "text/html": [
       "<div>\n",
       "<style scoped>\n",
       "    .dataframe tbody tr th:only-of-type {\n",
       "        vertical-align: middle;\n",
       "    }\n",
       "\n",
       "    .dataframe tbody tr th {\n",
       "        vertical-align: top;\n",
       "    }\n",
       "\n",
       "    .dataframe thead th {\n",
       "        text-align: right;\n",
       "    }\n",
       "</style>\n",
       "<table border=\"1\" class=\"dataframe\">\n",
       "  <thead>\n",
       "    <tr style=\"text-align: right;\">\n",
       "      <th></th>\n",
       "      <th>Qualification</th>\n",
       "      <th>Experience</th>\n",
       "      <th>Rating</th>\n",
       "      <th>Area</th>\n",
       "      <th>Dentist</th>\n",
       "      <th>Dermatologists</th>\n",
       "      <th>ENT Specialist</th>\n",
       "      <th>General Medicine</th>\n",
       "      <th>Homeopath</th>\n",
       "      <th>Chennai</th>\n",
       "      <th>Coimbatore</th>\n",
       "      <th>Delhi</th>\n",
       "      <th>Ernakulam</th>\n",
       "      <th>Hyderabad</th>\n",
       "      <th>Mumbai</th>\n",
       "      <th>Thiruvananthapuram</th>\n",
       "      <th>Unknown</th>\n",
       "    </tr>\n",
       "  </thead>\n",
       "  <tbody>\n",
       "    <tr>\n",
       "      <th>0</th>\n",
       "      <td>-1.267191</td>\n",
       "      <td>-0.353324</td>\n",
       "      <td>0.471890</td>\n",
       "      <td>1.764210</td>\n",
       "      <td>-0.52175</td>\n",
       "      <td>-0.461419</td>\n",
       "      <td>-0.375630</td>\n",
       "      <td>-0.485695</td>\n",
       "      <td>-0.425948</td>\n",
       "      <td>-0.433678</td>\n",
       "      <td>0.0</td>\n",
       "      <td>-0.522044</td>\n",
       "      <td>0.0</td>\n",
       "      <td>-0.460211</td>\n",
       "      <td>-0.53758</td>\n",
       "      <td>0.0</td>\n",
       "      <td>0.0</td>\n",
       "    </tr>\n",
       "    <tr>\n",
       "      <th>1</th>\n",
       "      <td>1.292568</td>\n",
       "      <td>-0.714088</td>\n",
       "      <td>0.145620</td>\n",
       "      <td>0.188695</td>\n",
       "      <td>-0.52175</td>\n",
       "      <td>-0.461419</td>\n",
       "      <td>2.662196</td>\n",
       "      <td>-0.485695</td>\n",
       "      <td>-0.425948</td>\n",
       "      <td>-0.433678</td>\n",
       "      <td>0.0</td>\n",
       "      <td>-0.522044</td>\n",
       "      <td>0.0</td>\n",
       "      <td>-0.460211</td>\n",
       "      <td>-0.53758</td>\n",
       "      <td>0.0</td>\n",
       "      <td>0.0</td>\n",
       "    </tr>\n",
       "    <tr>\n",
       "      <th>2</th>\n",
       "      <td>-0.324756</td>\n",
       "      <td>-0.353324</td>\n",
       "      <td>0.145620</td>\n",
       "      <td>-1.308825</td>\n",
       "      <td>-0.52175</td>\n",
       "      <td>-0.461419</td>\n",
       "      <td>-0.375630</td>\n",
       "      <td>-0.485695</td>\n",
       "      <td>-0.425948</td>\n",
       "      <td>-0.433678</td>\n",
       "      <td>0.0</td>\n",
       "      <td>-0.522044</td>\n",
       "      <td>0.0</td>\n",
       "      <td>-0.460211</td>\n",
       "      <td>-0.53758</td>\n",
       "      <td>0.0</td>\n",
       "      <td>0.0</td>\n",
       "    </tr>\n",
       "    <tr>\n",
       "      <th>3</th>\n",
       "      <td>-1.419041</td>\n",
       "      <td>0.430260</td>\n",
       "      <td>1.124431</td>\n",
       "      <td>-0.267581</td>\n",
       "      <td>-0.52175</td>\n",
       "      <td>-0.461419</td>\n",
       "      <td>-0.375630</td>\n",
       "      <td>-0.485695</td>\n",
       "      <td>-0.425948</td>\n",
       "      <td>2.305859</td>\n",
       "      <td>0.0</td>\n",
       "      <td>-0.522044</td>\n",
       "      <td>0.0</td>\n",
       "      <td>-0.460211</td>\n",
       "      <td>-0.53758</td>\n",
       "      <td>0.0</td>\n",
       "      <td>0.0</td>\n",
       "    </tr>\n",
       "    <tr>\n",
       "      <th>4</th>\n",
       "      <td>-1.419041</td>\n",
       "      <td>-0.847458</td>\n",
       "      <td>0.145620</td>\n",
       "      <td>0.785363</td>\n",
       "      <td>-0.52175</td>\n",
       "      <td>-0.461419</td>\n",
       "      <td>-0.375630</td>\n",
       "      <td>-0.485695</td>\n",
       "      <td>-0.425948</td>\n",
       "      <td>2.305859</td>\n",
       "      <td>0.0</td>\n",
       "      <td>-0.522044</td>\n",
       "      <td>0.0</td>\n",
       "      <td>-0.460211</td>\n",
       "      <td>-0.53758</td>\n",
       "      <td>0.0</td>\n",
       "      <td>0.0</td>\n",
       "    </tr>\n",
       "  </tbody>\n",
       "</table>\n",
       "</div>"
      ],
      "text/plain": [
       "   Qualification  Experience    Rating      Area  Dentist  Dermatologists  \\\n",
       "0      -1.267191   -0.353324  0.471890  1.764210 -0.52175       -0.461419   \n",
       "1       1.292568   -0.714088  0.145620  0.188695 -0.52175       -0.461419   \n",
       "2      -0.324756   -0.353324  0.145620 -1.308825 -0.52175       -0.461419   \n",
       "3      -1.419041    0.430260  1.124431 -0.267581 -0.52175       -0.461419   \n",
       "4      -1.419041   -0.847458  0.145620  0.785363 -0.52175       -0.461419   \n",
       "\n",
       "   ENT Specialist  General Medicine  Homeopath   Chennai   Coimbatore  \\\n",
       "0       -0.375630         -0.485695  -0.425948 -0.433678          0.0   \n",
       "1        2.662196         -0.485695  -0.425948 -0.433678          0.0   \n",
       "2       -0.375630         -0.485695  -0.425948 -0.433678          0.0   \n",
       "3       -0.375630         -0.485695  -0.425948  2.305859          0.0   \n",
       "4       -0.375630         -0.485695  -0.425948  2.305859          0.0   \n",
       "\n",
       "      Delhi   Ernakulam   Hyderabad   Mumbai   Thiruvananthapuram  Unknown  \n",
       "0 -0.522044         0.0   -0.460211 -0.53758                  0.0      0.0  \n",
       "1 -0.522044         0.0   -0.460211 -0.53758                  0.0      0.0  \n",
       "2 -0.522044         0.0   -0.460211 -0.53758                  0.0      0.0  \n",
       "3 -0.522044         0.0   -0.460211 -0.53758                  0.0      0.0  \n",
       "4 -0.522044         0.0   -0.460211 -0.53758                  0.0      0.0  "
      ]
     },
     "execution_count": 73,
     "metadata": {},
     "output_type": "execute_result"
    }
   ],
   "source": [
    "from sklearn.preprocessing import StandardScaler\n",
    "std=StandardScaler()\n",
    "\n",
    "xdata=pd.DataFrame(std.fit_transform(xdata),columns=xdata.columns)\n",
    "xdata.head()"
   ]
  },
  {
   "cell_type": "markdown",
   "metadata": {},
   "source": [
    "#### Training and Testing Model"
   ]
  },
  {
   "cell_type": "code",
   "execution_count": 76,
   "metadata": {},
   "outputs": [],
   "source": [
    "# Importing the neccesary sklearn libraries.\n",
    "\n",
    "from sklearn.linear_model import Lasso, LinearRegression, Ridge\n",
    "from sklearn.svm import SVR\n",
    "from sklearn.tree import DecisionTreeRegressor\n",
    "from sklearn.neighbors import KNeighborsRegressor\n",
    "from sklearn.ensemble import RandomForestRegressor\n",
    "from sklearn.ensemble import AdaBoostRegressor\n",
    "from sklearn.ensemble import GradientBoostingRegressor\n",
    "from sklearn.ensemble import ExtraTreesRegressor\n",
    "\n",
    "from sklearn.model_selection import cross_val_score\n",
    "from sklearn.model_selection import train_test_split\n",
    "from sklearn.metrics import mean_absolute_error,mean_squared_error, r2_score\n",
    "from sklearn import linear_model\n",
    "from sklearn.model_selection import GridSearchCV"
   ]
  },
  {
   "cell_type": "code",
   "execution_count": 75,
   "metadata": {},
   "outputs": [],
   "source": [
    "# Splitting the training and testing data and finding the maximum r2 score at random state.\n",
    "\n",
    "def max_r2_score (reg, X, y):\n",
    "    max_r_scr = 0\n",
    "    for r_state in range(42,101):\n",
    "        X_train, X_test, y_train, y_test = train_test_split(X, y, test_size = .20, random_state = r_state)\n",
    "        reg.fit(X_train, y_train)\n",
    "        pred = reg.predict(X_test)\n",
    "        r2_scr = r2_score(y_test, pred)\n",
    "        if r2_scr > max_r_scr:\n",
    "            max_r_scr = r2_scr\n",
    "            final_r_state = r_state\n",
    "            \n",
    "    print(\"Maximum r2 score :\", max_r_scr, \"achieved at\", final_r_state)\n",
    "    print('\\n')\n",
    "    print (\"Train acc\",reg.score(X_train,y_train))\n",
    "    print('\\n')\n",
    "    print(\"Mean Absolute Error : \",np.sqrt(mean_absolute_error(y_test, pred)))\n",
    "    print('\\n')\n",
    "    print(\"RMSE : \",np.sqrt(mean_squared_error(y_test, pred)))"
   ]
  },
  {
   "cell_type": "code",
   "execution_count": 77,
   "metadata": {},
   "outputs": [],
   "source": [
    "models={'LinearRegression':LinearRegression(),'Lasso':Lasso(alpha=0.0001),\n",
    "       'Ridge':Ridge(alpha=1),'SVR':SVR(),\n",
    "       'KNeighborsRegressor':KNeighborsRegressor(),\n",
    "       'RandomForestRegressor':RandomForestRegressor(),\n",
    "       'AdaBoostRegressor':AdaBoostRegressor(),\n",
    "       'GradientBoostingRegressor':GradientBoostingRegressor(),\n",
    "       'ExtraTreesRegressor':ExtraTreesRegressor()}"
   ]
  },
  {
   "cell_type": "code",
   "execution_count": 79,
   "metadata": {},
   "outputs": [
    {
     "name": "stdout",
     "output_type": "stream",
     "text": [
      "-------- LinearRegression --------\n",
      "Maximum r2 score : 0.14257023596109286 achieved at 74\n",
      "\n",
      "\n",
      "Train acc 0.11793041001188076\n",
      "\n",
      "\n",
      "Mean Absolute Error :  1.9973643596470514\n",
      "\n",
      "\n",
      "RMSE :  4.927306843398362\n",
      "\n",
      "\n",
      "Cross validation score (Mean r2 score): 0.11181091299798156 \n",
      "\n",
      "Standard Deviationin r2 score : 0.013669849179359688\n",
      "\n",
      "\n",
      "\n",
      "\n",
      "-------- Lasso --------\n",
      "Maximum r2 score : 0.14255845957715818 achieved at 74\n",
      "\n",
      "\n",
      "Train acc 0.11793039424693308\n",
      "\n",
      "\n",
      "Mean Absolute Error :  1.9973793526054702\n",
      "\n",
      "\n",
      "RMSE :  4.927353622758336\n",
      "\n",
      "\n",
      "Cross validation score (Mean r2 score): 0.11181114879932527 \n",
      "\n",
      "Standard Deviationin r2 score : 0.013673065005968783\n",
      "\n",
      "\n",
      "\n",
      "\n",
      "-------- Ridge --------\n",
      "Maximum r2 score : 0.14255605808746707 achieved at 74\n",
      "\n",
      "\n",
      "Train acc 0.11793037461524182\n",
      "\n",
      "\n",
      "Mean Absolute Error :  1.9973898323165822\n",
      "\n",
      "\n",
      "RMSE :  4.927380212083927\n",
      "\n",
      "\n",
      "Cross validation score (Mean r2 score): 0.11181380720973141 \n",
      "\n",
      "Standard Deviationin r2 score : 0.01367212206834851\n",
      "\n",
      "\n",
      "\n",
      "\n",
      "-------- SVR --------\n",
      "Maximum r2 score : 0.1845593355858487 achieved at 69\n",
      "\n",
      "\n",
      "Train acc 0.17494458078665895\n",
      "\n",
      "\n",
      "Mean Absolute Error :  1.9556985707330234\n",
      "\n",
      "\n",
      "RMSE :  4.979357283831312\n",
      "\n",
      "\n",
      "Cross validation score (Mean r2 score): 0.12002616160584341 \n",
      "\n",
      "Standard Deviationin r2 score : 0.021096240865794674\n",
      "\n",
      "\n",
      "\n",
      "\n",
      "-------- KNeighborsRegressor --------\n",
      "Maximum r2 score : 0.09719224785051472 achieved at 45\n",
      "\n",
      "\n",
      "Train acc 0.3472613336584137\n",
      "\n",
      "\n",
      "Mean Absolute Error :  2.023703293303891\n",
      "\n",
      "\n",
      "RMSE :  5.191200772354973\n",
      "\n",
      "\n",
      "Cross validation score (Mean r2 score): 0.02448034597360953 \n",
      "\n",
      "Standard Deviationin r2 score : 0.023641771513665946\n",
      "\n",
      "\n",
      "\n",
      "\n",
      "-------- RandomForestRegressor --------\n",
      "Maximum r2 score : 0.1997572387400559 achieved at 69\n",
      "\n",
      "\n",
      "Train acc 0.8806900122047299\n",
      "\n",
      "\n",
      "Mean Absolute Error :  1.952968472448406\n",
      "\n",
      "\n",
      "RMSE :  4.880521635932834\n",
      "\n",
      "\n",
      "Cross validation score (Mean r2 score): 0.15479524701321318 \n",
      "\n",
      "Standard Deviationin r2 score : 0.018252346155917323\n",
      "\n",
      "\n",
      "\n",
      "\n",
      "-------- AdaBoostRegressor --------\n",
      "Maximum r2 score : 0.1497412073034382 achieved at 69\n",
      "\n",
      "\n",
      "Train acc 0.1330075033442193\n",
      "\n",
      "\n",
      "Mean Absolute Error :  2.0112211860818014\n",
      "\n",
      "\n",
      "RMSE :  4.91150439238138\n",
      "\n",
      "\n",
      "Cross validation score (Mean r2 score): 0.1115617087557413 \n",
      "\n",
      "Standard Deviationin r2 score : 0.008473148852458314\n",
      "\n",
      "\n",
      "\n",
      "\n",
      "-------- GradientBoostingRegressor --------\n",
      "Maximum r2 score : 0.21084725604193255 achieved at 68\n",
      "\n",
      "\n",
      "Train acc 0.26578464714779304\n",
      "\n",
      "\n",
      "Mean Absolute Error :  1.956508791060604\n",
      "\n",
      "\n",
      "RMSE :  4.775288546513257\n",
      "\n",
      "\n",
      "Cross validation score (Mean r2 score): 0.17157145888795372 \n",
      "\n",
      "Standard Deviationin r2 score : 0.01561012655699703\n",
      "\n",
      "\n",
      "\n",
      "\n",
      "-------- ExtraTreesRegressor --------\n",
      "Maximum r2 score : 0.11754240642775005 achieved at 45\n",
      "\n",
      "\n",
      "Train acc 0.9971567380145265\n",
      "\n",
      "\n",
      "Mean Absolute Error :  1.977318730841288\n",
      "\n",
      "\n",
      "RMSE :  5.089681203630054\n",
      "\n",
      "\n",
      "Cross validation score (Mean r2 score): 0.050548850795031665 \n",
      "\n",
      "Standard Deviationin r2 score : 0.0321827825271912\n",
      "\n",
      "\n",
      "\n",
      "\n"
     ]
    }
   ],
   "source": [
    "for name in models:\n",
    "    model=models[name]\n",
    "    print('--------',name,'--------')\n",
    "    r_state = max_r2_score(model, xdata, ydata)\n",
    "    print('\\n')\n",
    "    mR2 = cross_val_score(model,  xdata, ydata, cv=5, scoring = \"r2\").mean()\n",
    "    print('Cross validation score (Mean r2 score):', mR2,'\\n')\n",
    "    stdR2 = cross_val_score(model,  xdata, ydata, cv=5, scoring = \"r2\").std()\n",
    "    print('Standard Deviationin r2 score :', stdR2)\n",
    "    print('\\n')\n",
    "    print('\\n')"
   ]
  },
  {
   "cell_type": "markdown",
   "metadata": {},
   "source": [
    "ExtraTreesRegressor perform well in this dataset"
   ]
  },
  {
   "cell_type": "markdown",
   "metadata": {},
   "source": [
    "Checking Test_data"
   ]
  },
  {
   "cell_type": "code",
   "execution_count": 80,
   "metadata": {},
   "outputs": [],
   "source": [
    "model=ExtraTreesRegressor()"
   ]
  },
  {
   "cell_type": "code",
   "execution_count": 81,
   "metadata": {},
   "outputs": [
    {
     "data": {
      "text/plain": [
       "ExtraTreesRegressor(bootstrap=False, ccp_alpha=0.0, criterion='mse',\n",
       "                    max_depth=None, max_features='auto', max_leaf_nodes=None,\n",
       "                    max_samples=None, min_impurity_decrease=0.0,\n",
       "                    min_impurity_split=None, min_samples_leaf=1,\n",
       "                    min_samples_split=2, min_weight_fraction_leaf=0.0,\n",
       "                    n_estimators=100, n_jobs=None, oob_score=False,\n",
       "                    random_state=None, verbose=0, warm_start=False)"
      ]
     },
     "execution_count": 81,
     "metadata": {},
     "output_type": "execute_result"
    }
   ],
   "source": [
    "model.fit(xdata,ydata)"
   ]
  },
  {
   "cell_type": "code",
   "execution_count": 82,
   "metadata": {},
   "outputs": [],
   "source": [
    "pred=model.predict(test_data)"
   ]
  },
  {
   "cell_type": "code",
   "execution_count": 83,
   "metadata": {},
   "outputs": [
    {
     "data": {
      "text/html": [
       "<div>\n",
       "<style scoped>\n",
       "    .dataframe tbody tr th:only-of-type {\n",
       "        vertical-align: middle;\n",
       "    }\n",
       "\n",
       "    .dataframe tbody tr th {\n",
       "        vertical-align: top;\n",
       "    }\n",
       "\n",
       "    .dataframe thead th {\n",
       "        text-align: right;\n",
       "    }\n",
       "</style>\n",
       "<table border=\"1\" class=\"dataframe\">\n",
       "  <thead>\n",
       "    <tr style=\"text-align: right;\">\n",
       "      <th></th>\n",
       "      <th>Fees</th>\n",
       "    </tr>\n",
       "  </thead>\n",
       "  <tbody>\n",
       "    <tr>\n",
       "      <th>0</th>\n",
       "      <td>17.852761</td>\n",
       "    </tr>\n",
       "    <tr>\n",
       "      <th>1</th>\n",
       "      <td>15.964018</td>\n",
       "    </tr>\n",
       "    <tr>\n",
       "      <th>2</th>\n",
       "      <td>17.544700</td>\n",
       "    </tr>\n",
       "    <tr>\n",
       "      <th>3</th>\n",
       "      <td>17.841426</td>\n",
       "    </tr>\n",
       "    <tr>\n",
       "      <th>4</th>\n",
       "      <td>17.413579</td>\n",
       "    </tr>\n",
       "  </tbody>\n",
       "</table>\n",
       "</div>"
      ],
      "text/plain": [
       "        Fees\n",
       "0  17.852761\n",
       "1  15.964018\n",
       "2  17.544700\n",
       "3  17.841426\n",
       "4  17.413579"
      ]
     },
     "execution_count": 83,
     "metadata": {},
     "output_type": "execute_result"
    }
   ],
   "source": [
    "Output=pd.DataFrame({'Fees':pred})\n",
    "Output.head()"
   ]
  },
  {
   "cell_type": "code",
   "execution_count": 85,
   "metadata": {},
   "outputs": [],
   "source": [
    "Output.to_csv('Doctor_Fee.csv',index=False)"
   ]
  },
  {
   "cell_type": "code",
   "execution_count": 86,
   "metadata": {},
   "outputs": [
    {
     "data": {
      "text/plain": [
       "['doc_fees.pkl']"
      ]
     },
     "execution_count": 86,
     "metadata": {},
     "output_type": "execute_result"
    }
   ],
   "source": [
    "# saving the model using joblib\n",
    "from sklearn.externals import joblib\n",
    "\n",
    "# Save the model as a pickle in a file\n",
    "joblib.dump(model, 'doc_fees.pkl')"
   ]
  },
  {
   "cell_type": "code",
   "execution_count": null,
   "metadata": {},
   "outputs": [],
   "source": []
  }
 ],
 "metadata": {
  "kernelspec": {
   "display_name": "Python 3",
   "language": "python",
   "name": "python3"
  },
  "language_info": {
   "codemirror_mode": {
    "name": "ipython",
    "version": 3
   },
   "file_extension": ".py",
   "mimetype": "text/x-python",
   "name": "python",
   "nbconvert_exporter": "python",
   "pygments_lexer": "ipython3",
   "version": "3.7.6"
  }
 },
 "nbformat": 4,
 "nbformat_minor": 2
}
