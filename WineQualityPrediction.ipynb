{
 "cells": [
  {
   "cell_type": "code",
   "execution_count": 1,
   "metadata": {},
   "outputs": [],
   "source": [
    "import warnings\n",
    "warnings.filterwarnings('ignore')\n",
    "\n",
    "import pandas as pd\n",
    "import numpy as np\n",
    "import seaborn as sns\n",
    "import matplotlib.pyplot as plt"
   ]
  },
  {
   "cell_type": "code",
   "execution_count": 27,
   "metadata": {},
   "outputs": [],
   "source": [
    "data=pd.read_csv('https://raw.githubusercontent.com/dsrscientist/DSData/master/winequality-red.csv')"
   ]
  },
  {
   "cell_type": "code",
   "execution_count": 28,
   "metadata": {},
   "outputs": [
    {
     "data": {
      "text/plain": [
       "(1599, 12)"
      ]
     },
     "execution_count": 28,
     "metadata": {},
     "output_type": "execute_result"
    }
   ],
   "source": [
    "data.shape"
   ]
  },
  {
   "cell_type": "code",
   "execution_count": 29,
   "metadata": {},
   "outputs": [
    {
     "data": {
      "text/html": [
       "<div>\n",
       "<style scoped>\n",
       "    .dataframe tbody tr th:only-of-type {\n",
       "        vertical-align: middle;\n",
       "    }\n",
       "\n",
       "    .dataframe tbody tr th {\n",
       "        vertical-align: top;\n",
       "    }\n",
       "\n",
       "    .dataframe thead th {\n",
       "        text-align: right;\n",
       "    }\n",
       "</style>\n",
       "<table border=\"1\" class=\"dataframe\">\n",
       "  <thead>\n",
       "    <tr style=\"text-align: right;\">\n",
       "      <th></th>\n",
       "      <th>fixed acidity</th>\n",
       "      <th>volatile acidity</th>\n",
       "      <th>citric acid</th>\n",
       "      <th>residual sugar</th>\n",
       "      <th>chlorides</th>\n",
       "      <th>free sulfur dioxide</th>\n",
       "      <th>total sulfur dioxide</th>\n",
       "      <th>density</th>\n",
       "      <th>pH</th>\n",
       "      <th>sulphates</th>\n",
       "      <th>alcohol</th>\n",
       "      <th>quality</th>\n",
       "    </tr>\n",
       "  </thead>\n",
       "  <tbody>\n",
       "    <tr>\n",
       "      <th>0</th>\n",
       "      <td>7.4</td>\n",
       "      <td>0.70</td>\n",
       "      <td>0.00</td>\n",
       "      <td>1.9</td>\n",
       "      <td>0.076</td>\n",
       "      <td>11.0</td>\n",
       "      <td>34.0</td>\n",
       "      <td>0.9978</td>\n",
       "      <td>3.51</td>\n",
       "      <td>0.56</td>\n",
       "      <td>9.4</td>\n",
       "      <td>5</td>\n",
       "    </tr>\n",
       "    <tr>\n",
       "      <th>1</th>\n",
       "      <td>7.8</td>\n",
       "      <td>0.88</td>\n",
       "      <td>0.00</td>\n",
       "      <td>2.6</td>\n",
       "      <td>0.098</td>\n",
       "      <td>25.0</td>\n",
       "      <td>67.0</td>\n",
       "      <td>0.9968</td>\n",
       "      <td>3.20</td>\n",
       "      <td>0.68</td>\n",
       "      <td>9.8</td>\n",
       "      <td>5</td>\n",
       "    </tr>\n",
       "    <tr>\n",
       "      <th>2</th>\n",
       "      <td>7.8</td>\n",
       "      <td>0.76</td>\n",
       "      <td>0.04</td>\n",
       "      <td>2.3</td>\n",
       "      <td>0.092</td>\n",
       "      <td>15.0</td>\n",
       "      <td>54.0</td>\n",
       "      <td>0.9970</td>\n",
       "      <td>3.26</td>\n",
       "      <td>0.65</td>\n",
       "      <td>9.8</td>\n",
       "      <td>5</td>\n",
       "    </tr>\n",
       "    <tr>\n",
       "      <th>3</th>\n",
       "      <td>11.2</td>\n",
       "      <td>0.28</td>\n",
       "      <td>0.56</td>\n",
       "      <td>1.9</td>\n",
       "      <td>0.075</td>\n",
       "      <td>17.0</td>\n",
       "      <td>60.0</td>\n",
       "      <td>0.9980</td>\n",
       "      <td>3.16</td>\n",
       "      <td>0.58</td>\n",
       "      <td>9.8</td>\n",
       "      <td>6</td>\n",
       "    </tr>\n",
       "    <tr>\n",
       "      <th>4</th>\n",
       "      <td>7.4</td>\n",
       "      <td>0.70</td>\n",
       "      <td>0.00</td>\n",
       "      <td>1.9</td>\n",
       "      <td>0.076</td>\n",
       "      <td>11.0</td>\n",
       "      <td>34.0</td>\n",
       "      <td>0.9978</td>\n",
       "      <td>3.51</td>\n",
       "      <td>0.56</td>\n",
       "      <td>9.4</td>\n",
       "      <td>5</td>\n",
       "    </tr>\n",
       "  </tbody>\n",
       "</table>\n",
       "</div>"
      ],
      "text/plain": [
       "   fixed acidity  volatile acidity  citric acid  residual sugar  chlorides  \\\n",
       "0            7.4              0.70         0.00             1.9      0.076   \n",
       "1            7.8              0.88         0.00             2.6      0.098   \n",
       "2            7.8              0.76         0.04             2.3      0.092   \n",
       "3           11.2              0.28         0.56             1.9      0.075   \n",
       "4            7.4              0.70         0.00             1.9      0.076   \n",
       "\n",
       "   free sulfur dioxide  total sulfur dioxide  density    pH  sulphates  \\\n",
       "0                 11.0                  34.0   0.9978  3.51       0.56   \n",
       "1                 25.0                  67.0   0.9968  3.20       0.68   \n",
       "2                 15.0                  54.0   0.9970  3.26       0.65   \n",
       "3                 17.0                  60.0   0.9980  3.16       0.58   \n",
       "4                 11.0                  34.0   0.9978  3.51       0.56   \n",
       "\n",
       "   alcohol  quality  \n",
       "0      9.4        5  \n",
       "1      9.8        5  \n",
       "2      9.8        5  \n",
       "3      9.8        6  \n",
       "4      9.4        5  "
      ]
     },
     "execution_count": 29,
     "metadata": {},
     "output_type": "execute_result"
    }
   ],
   "source": [
    "data.head()"
   ]
  },
  {
   "cell_type": "code",
   "execution_count": 30,
   "metadata": {},
   "outputs": [
    {
     "data": {
      "text/plain": [
       "5    681\n",
       "6    638\n",
       "7    199\n",
       "4     53\n",
       "8     18\n",
       "3     10\n",
       "Name: quality, dtype: int64"
      ]
     },
     "execution_count": 30,
     "metadata": {},
     "output_type": "execute_result"
    }
   ],
   "source": [
    "data.quality.value_counts()"
   ]
  },
  {
   "cell_type": "markdown",
   "metadata": {},
   "source": [
    "- Set an arbitrary cutoff for your dependent variable (wine quality) at e.g. 7 or higher getting classified as 'good/1' and the remainder as 'not good/0'."
   ]
  },
  {
   "cell_type": "code",
   "execution_count": 31,
   "metadata": {},
   "outputs": [],
   "source": [
    "for x in data.quality.index:\n",
    "    if data.quality[x]>=7:\n",
    "        data.quality[x]=1\n",
    "        \n",
    "    else:\n",
    "        data.quality[x]=0        "
   ]
  },
  {
   "cell_type": "code",
   "execution_count": 32,
   "metadata": {},
   "outputs": [
    {
     "data": {
      "text/plain": [
       "0    1382\n",
       "1     217\n",
       "Name: quality, dtype: int64"
      ]
     },
     "execution_count": 32,
     "metadata": {},
     "output_type": "execute_result"
    }
   ],
   "source": [
    "data.quality.value_counts()"
   ]
  },
  {
   "cell_type": "markdown",
   "metadata": {},
   "source": [
    "#### Checking for null values in dataset"
   ]
  },
  {
   "cell_type": "code",
   "execution_count": 33,
   "metadata": {},
   "outputs": [
    {
     "data": {
      "text/plain": [
       "False"
      ]
     },
     "execution_count": 33,
     "metadata": {},
     "output_type": "execute_result"
    }
   ],
   "source": [
    "data.isnull().values.any()"
   ]
  },
  {
   "cell_type": "markdown",
   "metadata": {},
   "source": [
    "- There is no null values in the dataset"
   ]
  },
  {
   "cell_type": "markdown",
   "metadata": {},
   "source": [
    "#### Checking for duplicated rows"
   ]
  },
  {
   "cell_type": "code",
   "execution_count": 34,
   "metadata": {},
   "outputs": [
    {
     "data": {
      "text/plain": [
       "240"
      ]
     },
     "execution_count": 34,
     "metadata": {},
     "output_type": "execute_result"
    }
   ],
   "source": [
    "data.duplicated().sum()"
   ]
  },
  {
   "cell_type": "markdown",
   "metadata": {},
   "source": [
    "- There are 240 duplicated rows are present in this dataset"
   ]
  },
  {
   "cell_type": "code",
   "execution_count": 35,
   "metadata": {},
   "outputs": [
    {
     "data": {
      "text/plain": [
       "(array([   4,   11,   27,   40,   65,   76,   91,   93,  102,  105,  114,\n",
       "         121,  132,  140,  141,  144,  153,  156,  157,  172,  176,  180,\n",
       "         194,  206,  228,  233,  236,  238,  239,  244,  249,  254,  271,\n",
       "         275,  276,  277,  283,  285,  290,  310,  319,  320,  325,  331,\n",
       "         343,  366,  377,  382,  383,  391,  398,  400,  424,  425,  430,\n",
       "         435,  438,  450,  458,  478,  486,  498,  499,  500,  502,  511,\n",
       "         514,  526,  532,  535,  536,  555,  558,  564,  565,  567,  571,\n",
       "         581,  592,  603,  616,  625,  627,  630,  642,  643,  644,  656,\n",
       "         660,  669,  673,  676,  685,  697,  701,  716,  720,  728,  736,\n",
       "         749,  751,  753,  758,  763,  770,  783,  786,  788,  799,  807,\n",
       "         815,  823,  827,  831,  837,  846,  848,  851,  854,  856,  864,\n",
       "         868,  877,  883,  884,  893,  897,  898,  902,  904,  914,  921,\n",
       "         922,  923,  928,  933,  934,  936,  949,  950,  951,  964,  971,\n",
       "         976,  983,  984,  990,  993,  997, 1005, 1006, 1018, 1021, 1029,\n",
       "        1042, 1050, 1055, 1059, 1068, 1074, 1078, 1084, 1089, 1096, 1099,\n",
       "        1103, 1116, 1117, 1137, 1155, 1164, 1174, 1180, 1187, 1188, 1199,\n",
       "        1200, 1205, 1206, 1208, 1212, 1221, 1232, 1237, 1247, 1250, 1259,\n",
       "        1266, 1278, 1281, 1289, 1294, 1296, 1308, 1310, 1318, 1325, 1326,\n",
       "        1327, 1330, 1337, 1338, 1340, 1341, 1343, 1348, 1353, 1362, 1372,\n",
       "        1380, 1383, 1387, 1401, 1409, 1412, 1416, 1420, 1425, 1435, 1446,\n",
       "        1450, 1457, 1465, 1468, 1476, 1481, 1491, 1496, 1499, 1507, 1520,\n",
       "        1522, 1557, 1560, 1561, 1563, 1564, 1567, 1581, 1596], dtype=int64),)"
      ]
     },
     "execution_count": 35,
     "metadata": {},
     "output_type": "execute_result"
    }
   ],
   "source": [
    "# finding duplicated rows\n",
    "np.where(data.duplicated()) "
   ]
  },
  {
   "cell_type": "code",
   "execution_count": 36,
   "metadata": {},
   "outputs": [
    {
     "name": "stdout",
     "output_type": "stream",
     "text": [
      "0\n"
     ]
    }
   ],
   "source": [
    "for ind in data.index:\n",
    "    if ind==4:\n",
    "        continue\n",
    "    if data.iloc[ind].equals(data.iloc[4]):\n",
    "        print(ind)"
   ]
  },
  {
   "cell_type": "code",
   "execution_count": 37,
   "metadata": {},
   "outputs": [
    {
     "data": {
      "text/html": [
       "<div>\n",
       "<style scoped>\n",
       "    .dataframe tbody tr th:only-of-type {\n",
       "        vertical-align: middle;\n",
       "    }\n",
       "\n",
       "    .dataframe tbody tr th {\n",
       "        vertical-align: top;\n",
       "    }\n",
       "\n",
       "    .dataframe thead th {\n",
       "        text-align: right;\n",
       "    }\n",
       "</style>\n",
       "<table border=\"1\" class=\"dataframe\">\n",
       "  <thead>\n",
       "    <tr style=\"text-align: right;\">\n",
       "      <th></th>\n",
       "      <th>fixed acidity</th>\n",
       "      <th>volatile acidity</th>\n",
       "      <th>citric acid</th>\n",
       "      <th>residual sugar</th>\n",
       "      <th>chlorides</th>\n",
       "      <th>free sulfur dioxide</th>\n",
       "      <th>total sulfur dioxide</th>\n",
       "      <th>density</th>\n",
       "      <th>pH</th>\n",
       "      <th>sulphates</th>\n",
       "      <th>alcohol</th>\n",
       "      <th>quality</th>\n",
       "    </tr>\n",
       "  </thead>\n",
       "  <tbody>\n",
       "    <tr>\n",
       "      <th>0</th>\n",
       "      <td>7.4</td>\n",
       "      <td>0.7</td>\n",
       "      <td>0.0</td>\n",
       "      <td>1.9</td>\n",
       "      <td>0.076</td>\n",
       "      <td>11.0</td>\n",
       "      <td>34.0</td>\n",
       "      <td>0.9978</td>\n",
       "      <td>3.51</td>\n",
       "      <td>0.56</td>\n",
       "      <td>9.4</td>\n",
       "      <td>0</td>\n",
       "    </tr>\n",
       "  </tbody>\n",
       "</table>\n",
       "</div>"
      ],
      "text/plain": [
       "   fixed acidity  volatile acidity  citric acid  residual sugar  chlorides  \\\n",
       "0            7.4               0.7          0.0             1.9      0.076   \n",
       "\n",
       "   free sulfur dioxide  total sulfur dioxide  density    pH  sulphates  \\\n",
       "0                 11.0                  34.0   0.9978  3.51       0.56   \n",
       "\n",
       "   alcohol  quality  \n",
       "0      9.4        0  "
      ]
     },
     "execution_count": 37,
     "metadata": {},
     "output_type": "execute_result"
    }
   ],
   "source": [
    "data.iloc[[0]]"
   ]
  },
  {
   "cell_type": "code",
   "execution_count": 38,
   "metadata": {},
   "outputs": [
    {
     "data": {
      "text/html": [
       "<div>\n",
       "<style scoped>\n",
       "    .dataframe tbody tr th:only-of-type {\n",
       "        vertical-align: middle;\n",
       "    }\n",
       "\n",
       "    .dataframe tbody tr th {\n",
       "        vertical-align: top;\n",
       "    }\n",
       "\n",
       "    .dataframe thead th {\n",
       "        text-align: right;\n",
       "    }\n",
       "</style>\n",
       "<table border=\"1\" class=\"dataframe\">\n",
       "  <thead>\n",
       "    <tr style=\"text-align: right;\">\n",
       "      <th></th>\n",
       "      <th>fixed acidity</th>\n",
       "      <th>volatile acidity</th>\n",
       "      <th>citric acid</th>\n",
       "      <th>residual sugar</th>\n",
       "      <th>chlorides</th>\n",
       "      <th>free sulfur dioxide</th>\n",
       "      <th>total sulfur dioxide</th>\n",
       "      <th>density</th>\n",
       "      <th>pH</th>\n",
       "      <th>sulphates</th>\n",
       "      <th>alcohol</th>\n",
       "      <th>quality</th>\n",
       "    </tr>\n",
       "  </thead>\n",
       "  <tbody>\n",
       "    <tr>\n",
       "      <th>4</th>\n",
       "      <td>7.4</td>\n",
       "      <td>0.7</td>\n",
       "      <td>0.0</td>\n",
       "      <td>1.9</td>\n",
       "      <td>0.076</td>\n",
       "      <td>11.0</td>\n",
       "      <td>34.0</td>\n",
       "      <td>0.9978</td>\n",
       "      <td>3.51</td>\n",
       "      <td>0.56</td>\n",
       "      <td>9.4</td>\n",
       "      <td>0</td>\n",
       "    </tr>\n",
       "  </tbody>\n",
       "</table>\n",
       "</div>"
      ],
      "text/plain": [
       "   fixed acidity  volatile acidity  citric acid  residual sugar  chlorides  \\\n",
       "4            7.4               0.7          0.0             1.9      0.076   \n",
       "\n",
       "   free sulfur dioxide  total sulfur dioxide  density    pH  sulphates  \\\n",
       "4                 11.0                  34.0   0.9978  3.51       0.56   \n",
       "\n",
       "   alcohol  quality  \n",
       "4      9.4        0  "
      ]
     },
     "execution_count": 38,
     "metadata": {},
     "output_type": "execute_result"
    }
   ],
   "source": [
    "data.iloc[[4]]"
   ]
  },
  {
   "cell_type": "markdown",
   "metadata": {},
   "source": [
    "- Hence there are 240 duplicated rows are present we need to remove these rows"
   ]
  },
  {
   "cell_type": "code",
   "execution_count": 39,
   "metadata": {},
   "outputs": [],
   "source": [
    "data.drop_duplicates(inplace=True)     # dropping duplicated rows"
   ]
  },
  {
   "cell_type": "code",
   "execution_count": 40,
   "metadata": {},
   "outputs": [
    {
     "data": {
      "text/plain": [
       "0"
      ]
     },
     "execution_count": 40,
     "metadata": {},
     "output_type": "execute_result"
    }
   ],
   "source": [
    "data.duplicated().sum()"
   ]
  },
  {
   "cell_type": "code",
   "execution_count": 41,
   "metadata": {},
   "outputs": [
    {
     "data": {
      "text/plain": [
       "(1359, 12)"
      ]
     },
     "execution_count": 41,
     "metadata": {},
     "output_type": "execute_result"
    }
   ],
   "source": [
    "data.shape"
   ]
  },
  {
   "cell_type": "markdown",
   "metadata": {},
   "source": [
    "#### EDA"
   ]
  },
  {
   "cell_type": "code",
   "execution_count": 42,
   "metadata": {},
   "outputs": [
    {
     "data": {
      "image/png": "[encoded data removed]",
      "text/plain": [
       "<Figure size 720x1080 with 11 Axes>"
      ]
     },
     "metadata": {
      "needs_background": "light"
     },
     "output_type": "display_data"
    }
   ],
   "source": [
    "plt.figure(figsize=(10,15))\n",
    "\n",
    "for x,col in zip(range(len(data.columns[:-1])),data.columns[:-1]):\n",
    "    \n",
    "    plt.subplot(5,3,x+1)\n",
    "    sns.boxplot(data[col])\n",
    "    plt.tight_layout()"
   ]
  },
  {
   "cell_type": "markdown",
   "metadata": {},
   "source": [
    "- Some outliers are present in dataset"
   ]
  },
  {
   "cell_type": "markdown",
   "metadata": {},
   "source": [
    "#### Handling outliers"
   ]
  },
  {
   "cell_type": "code",
   "execution_count": 43,
   "metadata": {},
   "outputs": [
    {
     "name": "stdout",
     "output_type": "stream",
     "text": [
      "(array([  0,   0,   0, ..., 152, 152, 152], dtype=int64), array([ 0,  1,  2, ...,  8,  9, 10], dtype=int64))\n",
      "153\n"
     ]
    }
   ],
   "source": [
    "from scipy.stats import zscore\n",
    "\n",
    "zscr=np.abs(zscore(data))\n",
    "\n",
    "print(np.where(data[zscr>3]))\n",
    "print(len(data[zscr>3]))"
   ]
  },
  {
   "cell_type": "code",
   "execution_count": 69,
   "metadata": {},
   "outputs": [],
   "source": [
    "new_df=data[(zscr<3).all(axis=1)]"
   ]
  },
  {
   "cell_type": "code",
   "execution_count": 70,
   "metadata": {},
   "outputs": [
    {
     "data": {
      "text/plain": [
       "(1239, 12)"
      ]
     },
     "execution_count": 70,
     "metadata": {},
     "output_type": "execute_result"
    }
   ],
   "source": [
    "new_df.shape"
   ]
  },
  {
   "cell_type": "markdown",
   "metadata": {},
   "source": [
    "#### Checking skewness of dataset"
   ]
  },
  {
   "cell_type": "code",
   "execution_count": 71,
   "metadata": {},
   "outputs": [
    {
     "data": {
      "text/plain": [
       "Index(['fixed acidity', 'volatile acidity', 'citric acid', 'residual sugar',\n",
       "       'chlorides', 'free sulfur dioxide', 'total sulfur dioxide', 'density',\n",
       "       'pH', 'sulphates', 'alcohol'],\n",
       "      dtype='object')"
      ]
     },
     "execution_count": 71,
     "metadata": {},
     "output_type": "execute_result"
    }
   ],
   "source": [
    "new_df.columns[:-1]"
   ]
  },
  {
   "cell_type": "code",
   "execution_count": 72,
   "metadata": {},
   "outputs": [
    {
     "data": {
      "image/png": "[encoded data removed]",
      "text/plain": [
       "<Figure size 1296x1080 with 11 Axes>"
      ]
     },
     "metadata": {
      "needs_background": "light"
     },
     "output_type": "display_data"
    }
   ],
   "source": [
    "plt.figure(figsize=(18,15))\n",
    "\n",
    "for x,col in zip( range(len(new_df.columns[:-1])) , new_df.columns[:-1] ):\n",
    "    \n",
    "    plt.subplot(4,3,x+1)\n",
    "    sns.distplot(new_df[col])\n",
    "    plt.tight_layout()"
   ]
  },
  {
   "cell_type": "code",
   "execution_count": 73,
   "metadata": {},
   "outputs": [],
   "source": [
    "Data=new_df"
   ]
  },
  {
   "cell_type": "code",
   "execution_count": 63,
   "metadata": {},
   "outputs": [
    {
     "data": {
      "text/plain": [
       "fixed acidity           0.803687\n",
       "volatile acidity        0.443794\n",
       "citric acid             0.277957\n",
       "residual sugar          2.371572\n",
       "chlorides               2.480193\n",
       "free sulfur dioxide     0.867795\n",
       "total sulfur dioxide    1.165286\n",
       "density                 0.018132\n",
       "pH                      0.116731\n",
       "sulphates               0.952455\n",
       "alcohol                 0.765872\n",
       "quality                 2.121367\n",
       "dtype: float64"
      ]
     },
     "execution_count": 63,
     "metadata": {},
     "output_type": "execute_result"
    }
   ],
   "source": [
    "Data.skew()"
   ]
  },
  {
   "cell_type": "markdown",
   "metadata": {},
   "source": [
    "#### Handling Skewness"
   ]
  },
  {
   "cell_type": "code",
   "execution_count": 75,
   "metadata": {},
   "outputs": [],
   "source": [
    "for index in Data.skew().index:\n",
    "    if Data.skew().loc[index]>0.5:\n",
    "        Data[index]=np.cbrt(Data[index])\n",
    "    if Data.skew().loc[index]<-0.5:\n",
    "        Data[index]=np.cbrt(Data[index])"
   ]
  },
  {
   "cell_type": "markdown",
   "metadata": {},
   "source": [
    "#### Handling unbalanced data using upsampling"
   ]
  },
  {
   "cell_type": "code",
   "execution_count": 91,
   "metadata": {},
   "outputs": [],
   "source": [
    "Data.quality=Data.quality.astype('int')"
   ]
  },
  {
   "cell_type": "code",
   "execution_count": 92,
   "metadata": {},
   "outputs": [
    {
     "data": {
      "text/plain": [
       "0    1070\n",
       "1     169\n",
       "Name: quality, dtype: int64"
      ]
     },
     "execution_count": 92,
     "metadata": {},
     "output_type": "execute_result"
    }
   ],
   "source": [
    "Data.quality.value_counts()"
   ]
  },
  {
   "cell_type": "code",
   "execution_count": 93,
   "metadata": {},
   "outputs": [],
   "source": [
    "from sklearn.utils import resample"
   ]
  },
  {
   "cell_type": "code",
   "execution_count": 95,
   "metadata": {},
   "outputs": [],
   "source": [
    "good_quality=Data[Data.quality==1]\n",
    "bad_quality=Data[Data.quality==0]"
   ]
  },
  {
   "cell_type": "code",
   "execution_count": 96,
   "metadata": {},
   "outputs": [],
   "source": [
    "upsmp_good=resample(good_quality,n_samples=len(bad_quality))"
   ]
  },
  {
   "cell_type": "code",
   "execution_count": 97,
   "metadata": {},
   "outputs": [],
   "source": [
    "upsampled_df=pd.concat([upsmp_good,bad_quality])"
   ]
  },
  {
   "cell_type": "code",
   "execution_count": 98,
   "metadata": {},
   "outputs": [
    {
     "data": {
      "text/plain": [
       "1    1070\n",
       "0    1070\n",
       "Name: quality, dtype: int64"
      ]
     },
     "execution_count": 98,
     "metadata": {},
     "output_type": "execute_result"
    }
   ],
   "source": [
    "upsampled_df.quality.value_counts()"
   ]
  },
  {
   "cell_type": "code",
   "execution_count": null,
   "metadata": {},
   "outputs": [],
   "source": []
  },
  {
   "cell_type": "markdown",
   "metadata": {},
   "source": [
    "#### Splittind dataset into input and output"
   ]
  },
  {
   "cell_type": "code",
   "execution_count": 101,
   "metadata": {},
   "outputs": [
    {
     "data": {
      "text/html": [
       "<div>\n",
       "<style scoped>\n",
       "    .dataframe tbody tr th:only-of-type {\n",
       "        vertical-align: middle;\n",
       "    }\n",
       "\n",
       "    .dataframe tbody tr th {\n",
       "        vertical-align: top;\n",
       "    }\n",
       "\n",
       "    .dataframe thead th {\n",
       "        text-align: right;\n",
       "    }\n",
       "</style>\n",
       "<table border=\"1\" class=\"dataframe\">\n",
       "  <thead>\n",
       "    <tr style=\"text-align: right;\">\n",
       "      <th></th>\n",
       "      <th>fixed acidity</th>\n",
       "      <th>volatile acidity</th>\n",
       "      <th>citric acid</th>\n",
       "      <th>residual sugar</th>\n",
       "      <th>chlorides</th>\n",
       "      <th>free sulfur dioxide</th>\n",
       "      <th>total sulfur dioxide</th>\n",
       "      <th>density</th>\n",
       "      <th>pH</th>\n",
       "      <th>sulphates</th>\n",
       "      <th>alcohol</th>\n",
       "    </tr>\n",
       "  </thead>\n",
       "  <tbody>\n",
       "    <tr>\n",
       "      <th>1323</th>\n",
       "      <td>2.087759</td>\n",
       "      <td>0.36</td>\n",
       "      <td>0.39</td>\n",
       "      <td>1.216440</td>\n",
       "      <td>0.391487</td>\n",
       "      <td>2.758924</td>\n",
       "      <td>3.802952</td>\n",
       "      <td>0.99495</td>\n",
       "      <td>3.18</td>\n",
       "      <td>0.935990</td>\n",
       "      <td>2.223980</td>\n",
       "    </tr>\n",
       "    <tr>\n",
       "      <th>1133</th>\n",
       "      <td>1.930979</td>\n",
       "      <td>0.48</td>\n",
       "      <td>0.07</td>\n",
       "      <td>1.765174</td>\n",
       "      <td>0.446475</td>\n",
       "      <td>2.154435</td>\n",
       "      <td>2.620741</td>\n",
       "      <td>0.99684</td>\n",
       "      <td>3.37</td>\n",
       "      <td>0.879366</td>\n",
       "      <td>2.237378</td>\n",
       "    </tr>\n",
       "    <tr>\n",
       "      <th>16</th>\n",
       "      <td>2.040828</td>\n",
       "      <td>0.28</td>\n",
       "      <td>0.56</td>\n",
       "      <td>1.216440</td>\n",
       "      <td>0.451436</td>\n",
       "      <td>3.271066</td>\n",
       "      <td>4.687548</td>\n",
       "      <td>0.99690</td>\n",
       "      <td>3.30</td>\n",
       "      <td>0.908560</td>\n",
       "      <td>2.189760</td>\n",
       "    </tr>\n",
       "    <tr>\n",
       "      <th>1323</th>\n",
       "      <td>2.087759</td>\n",
       "      <td>0.36</td>\n",
       "      <td>0.39</td>\n",
       "      <td>1.216440</td>\n",
       "      <td>0.391487</td>\n",
       "      <td>2.758924</td>\n",
       "      <td>3.802952</td>\n",
       "      <td>0.99495</td>\n",
       "      <td>3.18</td>\n",
       "      <td>0.935990</td>\n",
       "      <td>2.223980</td>\n",
       "    </tr>\n",
       "    <tr>\n",
       "      <th>873</th>\n",
       "      <td>2.087759</td>\n",
       "      <td>0.21</td>\n",
       "      <td>0.37</td>\n",
       "      <td>1.169607</td>\n",
       "      <td>0.406155</td>\n",
       "      <td>1.817121</td>\n",
       "      <td>2.154435</td>\n",
       "      <td>0.99552</td>\n",
       "      <td>3.23</td>\n",
       "      <td>0.833955</td>\n",
       "      <td>2.230699</td>\n",
       "    </tr>\n",
       "  </tbody>\n",
       "</table>\n",
       "</div>"
      ],
      "text/plain": [
       "      fixed acidity  volatile acidity  citric acid  residual sugar  chlorides  \\\n",
       "1323       2.087759              0.36         0.39        1.216440   0.391487   \n",
       "1133       1.930979              0.48         0.07        1.765174   0.446475   \n",
       "16         2.040828              0.28         0.56        1.216440   0.451436   \n",
       "1323       2.087759              0.36         0.39        1.216440   0.391487   \n",
       "873        2.087759              0.21         0.37        1.169607   0.406155   \n",
       "\n",
       "      free sulfur dioxide  total sulfur dioxide  density    pH  sulphates  \\\n",
       "1323             2.758924              3.802952  0.99495  3.18   0.935990   \n",
       "1133             2.154435              2.620741  0.99684  3.37   0.879366   \n",
       "16               3.271066              4.687548  0.99690  3.30   0.908560   \n",
       "1323             2.758924              3.802952  0.99495  3.18   0.935990   \n",
       "873              1.817121              2.154435  0.99552  3.23   0.833955   \n",
       "\n",
       "       alcohol  \n",
       "1323  2.223980  \n",
       "1133  2.237378  \n",
       "16    2.189760  \n",
       "1323  2.223980  \n",
       "873   2.230699  "
      ]
     },
     "execution_count": 101,
     "metadata": {},
     "output_type": "execute_result"
    }
   ],
   "source": [
    "xdata=upsampled_df.drop(columns=['quality'])\n",
    "xdata.head()"
   ]
  },
  {
   "cell_type": "code",
   "execution_count": 102,
   "metadata": {},
   "outputs": [],
   "source": [
    "ydata=upsampled_df.quality"
   ]
  },
  {
   "cell_type": "markdown",
   "metadata": {},
   "source": [
    "#### Finding best random_state value"
   ]
  },
  {
   "cell_type": "code",
   "execution_count": 103,
   "metadata": {},
   "outputs": [],
   "source": [
    "from sklearn.model_selection import train_test_split,cross_val_score\n",
    "from sklearn.ensemble import RandomForestClassifier,ExtraTreesClassifier\n",
    "from sklearn.metrics import accuracy_score,classification_report,confusion_matrix"
   ]
  },
  {
   "cell_type": "code",
   "execution_count": 114,
   "metadata": {},
   "outputs": [
    {
     "name": "stdout",
     "output_type": "stream",
     "text": [
      "Best accuracy 0.9735202492211839 at random_state 100\n"
     ]
    }
   ],
   "source": [
    "maxacc=0\n",
    "maxrs=0\n",
    "\n",
    "for rs in range(1,101):\n",
    "    xtrain,xtest,ytrain,ytest=train_test_split(xdata,ydata,test_size=.3,random_state=rs,stratify=ydata)\n",
    "    rmodel=RandomForestClassifier()\n",
    "    rmodel.fit(xtrain,ytrain)\n",
    "    pred=rmodel.predict(xtest)\n",
    "    acc=accuracy_score(ytest,pred)\n",
    "    \n",
    "    if acc>maxacc:\n",
    "        maxacc=acc\n",
    "        maxrs=rs\n",
    "        \n",
    "print(f'Best accuracy {maxacc} at random_state {rs}')"
   ]
  },
  {
   "cell_type": "code",
   "execution_count": 119,
   "metadata": {},
   "outputs": [],
   "source": [
    "xtrain,xtest,ytrain,ytest=train_test_split(xdata,ydata,test_size=.3,random_state=42,stratify=ydata)"
   ]
  },
  {
   "cell_type": "code",
   "execution_count": 120,
   "metadata": {},
   "outputs": [
    {
     "data": {
      "text/plain": [
       "0.9501557632398754"
      ]
     },
     "execution_count": 120,
     "metadata": {},
     "output_type": "execute_result"
    }
   ],
   "source": [
    "rmodel=RandomForestClassifier()\n",
    "rmodel.fit(xtrain,ytrain)\n",
    "ypred=rmodel.predict(xtest)\n",
    "accuracy_score(ytest,ypred)"
   ]
  },
  {
   "cell_type": "code",
   "execution_count": 122,
   "metadata": {},
   "outputs": [],
   "source": [
    "# importing all the model library\n",
    "\n",
    "from sklearn.linear_model import LogisticRegression\n",
    "from sklearn.naive_bayes import GaussianNB\n",
    "from sklearn.tree import DecisionTreeClassifier\n",
    "\n",
    "#importing boosting models\n",
    "\n",
    "from sklearn.ensemble import AdaBoostClassifier\n",
    "from sklearn.ensemble import GradientBoostingClassifier\n",
    "from sklearn.ensemble import BaggingClassifier\n",
    "\n",
    "# importing error metrics\n",
    "\n",
    "from sklearn.metrics import roc_curve,auc\n",
    "from sklearn.model_selection import GridSearchCV"
   ]
  },
  {
   "cell_type": "code",
   "execution_count": 123,
   "metadata": {},
   "outputs": [
    {
     "name": "stdout",
     "output_type": "stream",
     "text": [
      "Metrics evaluation of model LogisticRegression(C=1.0, class_weight=None, dual=False, fit_intercept=True,\n",
      "                   intercept_scaling=1, l1_ratio=None, max_iter=100,\n",
      "                   multi_class='auto', n_jobs=None, penalty='l2',\n",
      "                   random_state=None, solver='lbfgs', tol=0.0001, verbose=0,\n",
      "                   warm_start=False) :\n",
      "Accuracy score :\n",
      " 0.7834890965732088\n",
      "\n",
      "Confusion matrix :\n",
      " [[239  82]\n",
      " [ 57 264]]\n",
      "\n",
      "Classification report :\n",
      "              precision    recall  f1-score   support\n",
      "\n",
      "           0       0.81      0.74      0.77       321\n",
      "           1       0.76      0.82      0.79       321\n",
      "\n",
      "    accuracy                           0.78       642\n",
      "   macro avg       0.79      0.78      0.78       642\n",
      "weighted avg       0.79      0.78      0.78       642\n",
      "\n",
      "\n",
      "_________________________________________________________\n",
      "\n",
      "Metrics evaluation of model GaussianNB(priors=None, var_smoothing=1e-09) :\n",
      "Accuracy score :\n",
      " 0.7928348909657321\n",
      "\n",
      "Confusion matrix :\n",
      " [[240  81]\n",
      " [ 52 269]]\n",
      "\n",
      "Classification report :\n",
      "              precision    recall  f1-score   support\n",
      "\n",
      "           0       0.82      0.75      0.78       321\n",
      "           1       0.77      0.84      0.80       321\n",
      "\n",
      "    accuracy                           0.79       642\n",
      "   macro avg       0.80      0.79      0.79       642\n",
      "weighted avg       0.80      0.79      0.79       642\n",
      "\n",
      "\n",
      "_________________________________________________________\n",
      "\n",
      "Metrics evaluation of model DecisionTreeClassifier(ccp_alpha=0.0, class_weight=None, criterion='gini',\n",
      "                       max_depth=None, max_features=None, max_leaf_nodes=None,\n",
      "                       min_impurity_decrease=0.0, min_impurity_split=None,\n",
      "                       min_samples_leaf=1, min_samples_split=2,\n",
      "                       min_weight_fraction_leaf=0.0, presort='deprecated',\n",
      "                       random_state=None, splitter='best') :\n",
      "Accuracy score :\n",
      " 0.9439252336448598\n",
      "\n",
      "Confusion matrix :\n",
      " [[285  36]\n",
      " [  0 321]]\n",
      "\n",
      "Classification report :\n",
      "              precision    recall  f1-score   support\n",
      "\n",
      "           0       1.00      0.89      0.94       321\n",
      "           1       0.90      1.00      0.95       321\n",
      "\n",
      "    accuracy                           0.94       642\n",
      "   macro avg       0.95      0.94      0.94       642\n",
      "weighted avg       0.95      0.94      0.94       642\n",
      "\n",
      "\n",
      "_________________________________________________________\n",
      "\n",
      "Metrics evaluation of model RandomForestClassifier(bootstrap=True, ccp_alpha=0.0, class_weight=None,\n",
      "                       criterion='gini', max_depth=None, max_features='auto',\n",
      "                       max_leaf_nodes=None, max_samples=None,\n",
      "                       min_impurity_decrease=0.0, min_impurity_split=None,\n",
      "                       min_samples_leaf=1, min_samples_split=2,\n",
      "                       min_weight_fraction_leaf=0.0, n_estimators=100,\n",
      "                       n_jobs=None, oob_score=False, random_state=None,\n",
      "                       verbose=0, warm_start=False) :\n",
      "Accuracy score :\n",
      " 0.9470404984423676\n",
      "\n",
      "Confusion matrix :\n",
      " [[287  34]\n",
      " [  0 321]]\n",
      "\n",
      "Classification report :\n",
      "              precision    recall  f1-score   support\n",
      "\n",
      "           0       1.00      0.89      0.94       321\n",
      "           1       0.90      1.00      0.95       321\n",
      "\n",
      "    accuracy                           0.95       642\n",
      "   macro avg       0.95      0.95      0.95       642\n",
      "weighted avg       0.95      0.95      0.95       642\n",
      "\n",
      "\n",
      "_________________________________________________________\n",
      "\n",
      "Metrics evaluation of model AdaBoostClassifier(algorithm='SAMME.R', base_estimator=None, learning_rate=1.0,\n",
      "                   n_estimators=50, random_state=None) :\n",
      "Accuracy score :\n",
      " 0.8286604361370716\n",
      "\n",
      "Confusion matrix :\n",
      " [[252  69]\n",
      " [ 41 280]]\n",
      "\n",
      "Classification report :\n",
      "              precision    recall  f1-score   support\n",
      "\n",
      "           0       0.86      0.79      0.82       321\n",
      "           1       0.80      0.87      0.84       321\n",
      "\n",
      "    accuracy                           0.83       642\n",
      "   macro avg       0.83      0.83      0.83       642\n",
      "weighted avg       0.83      0.83      0.83       642\n",
      "\n",
      "\n",
      "_________________________________________________________\n",
      "\n",
      "Metrics evaluation of model GradientBoostingClassifier(ccp_alpha=0.0, criterion='friedman_mse', init=None,\n",
      "                           learning_rate=0.1, loss='deviance', max_depth=3,\n",
      "                           max_features=None, max_leaf_nodes=None,\n",
      "                           min_impurity_decrease=0.0, min_impurity_split=None,\n",
      "                           min_samples_leaf=1, min_samples_split=2,\n",
      "                           min_weight_fraction_leaf=0.0, n_estimators=100,\n",
      "                           n_iter_no_change=None, presort='deprecated',\n",
      "                           random_state=None, subsample=1.0, tol=0.0001,\n",
      "                           validation_fraction=0.1, verbose=0,\n",
      "                           warm_start=False) :\n",
      "Accuracy score :\n",
      " 0.881619937694704\n",
      "\n",
      "Confusion matrix :\n",
      " [[267  54]\n",
      " [ 22 299]]\n",
      "\n",
      "Classification report :\n",
      "              precision    recall  f1-score   support\n",
      "\n",
      "           0       0.92      0.83      0.88       321\n",
      "           1       0.85      0.93      0.89       321\n",
      "\n",
      "    accuracy                           0.88       642\n",
      "   macro avg       0.89      0.88      0.88       642\n",
      "weighted avg       0.89      0.88      0.88       642\n",
      "\n",
      "\n",
      "_________________________________________________________\n",
      "\n",
      "Metrics evaluation of model BaggingClassifier(base_estimator=None, bootstrap=True, bootstrap_features=False,\n",
      "                  max_features=1.0, max_samples=1.0, n_estimators=10,\n",
      "                  n_jobs=None, oob_score=False, random_state=None, verbose=0,\n",
      "                  warm_start=False) :\n",
      "Accuracy score :\n",
      " 0.9283489096573209\n",
      "\n",
      "Confusion matrix :\n",
      " [[282  39]\n",
      " [  7 314]]\n",
      "\n",
      "Classification report :\n",
      "              precision    recall  f1-score   support\n",
      "\n",
      "           0       0.98      0.88      0.92       321\n",
      "           1       0.89      0.98      0.93       321\n",
      "\n",
      "    accuracy                           0.93       642\n",
      "   macro avg       0.93      0.93      0.93       642\n",
      "weighted avg       0.93      0.93      0.93       642\n",
      "\n",
      "\n",
      "_________________________________________________________\n",
      "\n",
      "Metrics evaluation of model ExtraTreesClassifier(bootstrap=False, ccp_alpha=0.0, class_weight=None,\n",
      "                     criterion='gini', max_depth=None, max_features='auto',\n",
      "                     max_leaf_nodes=None, max_samples=None,\n",
      "                     min_impurity_decrease=0.0, min_impurity_split=None,\n",
      "                     min_samples_leaf=1, min_samples_split=2,\n",
      "                     min_weight_fraction_leaf=0.0, n_estimators=100,\n",
      "                     n_jobs=None, oob_score=False, random_state=None, verbose=0,\n",
      "                     warm_start=False) :\n",
      "Accuracy score :\n",
      " 0.9813084112149533\n",
      "\n",
      "Confusion matrix :\n",
      " [[309  12]\n",
      " [  0 321]]\n",
      "\n",
      "Classification report :\n",
      "              precision    recall  f1-score   support\n",
      "\n",
      "           0       1.00      0.96      0.98       321\n",
      "           1       0.96      1.00      0.98       321\n",
      "\n",
      "    accuracy                           0.98       642\n",
      "   macro avg       0.98      0.98      0.98       642\n",
      "weighted avg       0.98      0.98      0.98       642\n",
      "\n",
      "\n",
      "_________________________________________________________\n",
      "\n"
     ]
    }
   ],
   "source": [
    "models=[LogisticRegression(), GaussianNB(), DecisionTreeClassifier(), RandomForestClassifier(),\n",
    "       AdaBoostClassifier(), GradientBoostingClassifier(), BaggingClassifier(), ExtraTreesClassifier()]\n",
    "ypreds=[]\n",
    "for model in models:\n",
    "    model.fit(xtrain,ytrain)\n",
    "    pred=model.predict(xtest)\n",
    "    ypreds.append(pred)\n",
    "    print(f\"Metrics evaluation of model {model} :\")\n",
    "    print(f'Accuracy score :\\n {accuracy_score(ytest,pred)}\\n')\n",
    "    print(f'Confusion matrix :\\n {confusion_matrix(ytest,pred)}\\n')\n",
    "    print(f'Classification report :\\n{classification_report(ytest,pred)}\\n')\n",
    "    print('_________________________________________________________\\n')"
   ]
  },
  {
   "cell_type": "markdown",
   "metadata": {},
   "source": [
    "#### Cross_val_score on different models"
   ]
  },
  {
   "cell_type": "code",
   "execution_count": 124,
   "metadata": {},
   "outputs": [
    {
     "name": "stdout",
     "output_type": "stream",
     "text": [
      "Model : LogisticRegression(C=1.0, class_weight=None, dual=False, fit_intercept=True,\n",
      "                   intercept_scaling=1, l1_ratio=None, max_iter=100,\n",
      "                   multi_class='auto', n_jobs=None, penalty='l2',\n",
      "                   random_state=None, solver='lbfgs', tol=0.0001, verbose=0,\n",
      "                   warm_start=False)\n",
      "Score : [0.87149533 0.74766355 0.8317757  0.69392523 0.80607477]\n",
      "Mean score : 0.7901869158878505\n",
      "Standard deivation : 0.0627178707608797\n",
      "\n",
      "_________________________________________________________\n",
      "\n",
      "Model : GaussianNB(priors=None, var_smoothing=1e-09)\n",
      "Score : [0.85981308 0.67990654 0.86214953 0.72196262 0.8271028 ]\n",
      "Mean score : 0.7901869158878505\n",
      "Standard deivation : 0.07510728344543248\n",
      "\n",
      "_________________________________________________________\n",
      "\n",
      "Model : DecisionTreeClassifier(ccp_alpha=0.0, class_weight=None, criterion='gini',\n",
      "                       max_depth=None, max_features=None, max_leaf_nodes=None,\n",
      "                       min_impurity_decrease=0.0, min_impurity_split=None,\n",
      "                       min_samples_leaf=1, min_samples_split=2,\n",
      "                       min_weight_fraction_leaf=0.0, presort='deprecated',\n",
      "                       random_state=None, splitter='best')\n",
      "Score : [0.97429907 0.90186916 0.95560748 0.87616822 0.9135514 ]\n",
      "Mean score : 0.9242990654205606\n",
      "Standard deivation : 0.035820126909788426\n",
      "\n",
      "_________________________________________________________\n",
      "\n",
      "Model : RandomForestClassifier(bootstrap=True, ccp_alpha=0.0, class_weight=None,\n",
      "                       criterion='gini', max_depth=None, max_features='auto',\n",
      "                       max_leaf_nodes=None, max_samples=None,\n",
      "                       min_impurity_decrease=0.0, min_impurity_split=None,\n",
      "                       min_samples_leaf=1, min_samples_split=2,\n",
      "                       min_weight_fraction_leaf=0.0, n_estimators=100,\n",
      "                       n_jobs=None, oob_score=False, random_state=None,\n",
      "                       verbose=0, warm_start=False)\n",
      "Score : [0.98831776 0.9228972  0.97663551 0.90420561 0.94392523]\n",
      "Mean score : 0.9471962616822429\n",
      "Standard deivation : 0.03164486533334023\n",
      "\n",
      "_________________________________________________________\n",
      "\n",
      "Model : AdaBoostClassifier(algorithm='SAMME.R', base_estimator=None, learning_rate=1.0,\n",
      "                   n_estimators=50, random_state=None)\n",
      "Score : [0.91588785 0.82476636 0.89485981 0.76869159 0.82242991]\n",
      "Mean score : 0.8453271028037384\n",
      "Standard deivation : 0.05338976764998725\n",
      "\n",
      "_________________________________________________________\n",
      "\n",
      "Model : GradientBoostingClassifier(ccp_alpha=0.0, criterion='friedman_mse', init=None,\n",
      "                           learning_rate=0.1, loss='deviance', max_depth=3,\n",
      "                           max_features=None, max_leaf_nodes=None,\n",
      "                           min_impurity_decrease=0.0, min_impurity_split=None,\n",
      "                           min_samples_leaf=1, min_samples_split=2,\n",
      "                           min_weight_fraction_leaf=0.0, n_estimators=100,\n",
      "                           n_iter_no_change=None, presort='deprecated',\n",
      "                           random_state=None, subsample=1.0, tol=0.0001,\n",
      "                           validation_fraction=0.1, verbose=0,\n",
      "                           warm_start=False)\n",
      "Score : [0.95327103 0.85747664 0.94859813 0.79439252 0.89953271]\n",
      "Mean score : 0.8906542056074767\n",
      "Standard deivation : 0.05953865197245258\n",
      "\n",
      "_________________________________________________________\n",
      "\n",
      "Model : BaggingClassifier(base_estimator=None, bootstrap=True, bootstrap_features=False,\n",
      "                  max_features=1.0, max_samples=1.0, n_estimators=10,\n",
      "                  n_jobs=None, oob_score=False, random_state=None, verbose=0,\n",
      "                  warm_start=False)\n",
      "Score : [0.98831776 0.91588785 0.97429907 0.88551402 0.93224299]\n",
      "Mean score : 0.9392523364485982\n",
      "Standard deivation : 0.03773201726763805\n",
      "\n",
      "_________________________________________________________\n",
      "\n",
      "Model : ExtraTreesClassifier(bootstrap=False, ccp_alpha=0.0, class_weight=None,\n",
      "                     criterion='gini', max_depth=None, max_features='auto',\n",
      "                     max_leaf_nodes=None, max_samples=None,\n",
      "                     min_impurity_decrease=0.0, min_impurity_split=None,\n",
      "                     min_samples_leaf=1, min_samples_split=2,\n",
      "                     min_weight_fraction_leaf=0.0, n_estimators=100,\n",
      "                     n_jobs=None, oob_score=False, random_state=None, verbose=0,\n",
      "                     warm_start=False)\n",
      "Score : [0.99766355 0.94626168 0.98831776 0.92523364 0.99299065]\n",
      "Mean score : 0.9700934579439252\n",
      "Standard deivation : 0.028971962616822423\n",
      "\n",
      "_________________________________________________________\n",
      "\n"
     ]
    }
   ],
   "source": [
    "models=[LogisticRegression(), GaussianNB(), DecisionTreeClassifier(), RandomForestClassifier(),\n",
    "       AdaBoostClassifier(), GradientBoostingClassifier(), BaggingClassifier(), ExtraTreesClassifier()]\n",
    "\n",
    "for model in models:\n",
    "    score=cross_val_score(model,xdata,ydata,cv=5,scoring='accuracy')\n",
    "    print(f'Model : {model}')\n",
    "    print(f'Score : {score}')\n",
    "    print(f'Mean score : {score.mean()}')\n",
    "    print(f'Standard deivation : {score.std()}\\n')\n",
    "    print('_________________________________________________________\\n')"
   ]
  },
  {
   "cell_type": "markdown",
   "metadata": {},
   "source": [
    "- ExtraTreesClassifier has low difference b/w cross_val_score and accuracy_score with highest accuracy"
   ]
  },
  {
   "cell_type": "markdown",
   "metadata": {},
   "source": [
    "#### Best parameters for ExtraTreesClassifier"
   ]
  },
  {
   "cell_type": "code",
   "execution_count": 125,
   "metadata": {},
   "outputs": [
    {
     "data": {
      "text/plain": [
       "{'criterion': 'entropy', 'n_estimators': 82}"
      ]
     },
     "execution_count": 125,
     "metadata": {},
     "output_type": "execute_result"
    }
   ],
   "source": [
    "grd=GridSearchCV(ExtraTreesClassifier(),\n",
    "                 {'criterion':['gini','entropy'],'n_estimators':range(80,100)})\n",
    "\n",
    "grd.fit(xtest,ytest)\n",
    "grd.best_params_"
   ]
  },
  {
   "cell_type": "code",
   "execution_count": null,
   "metadata": {},
   "outputs": [],
   "source": []
  },
  {
   "cell_type": "code",
   "execution_count": 126,
   "metadata": {},
   "outputs": [],
   "source": [
    "xmodel=ExtraTreesClassifier(criterion='entropy',n_estimators=82)"
   ]
  },
  {
   "cell_type": "code",
   "execution_count": 128,
   "metadata": {},
   "outputs": [
    {
     "data": {
      "text/plain": [
       "97.81931464174455"
      ]
     },
     "execution_count": 128,
     "metadata": {},
     "output_type": "execute_result"
    }
   ],
   "source": [
    "xmodel.fit(xtrain,ytrain)\n",
    "ypred=xmodel.predict(xtest)\n",
    "accuracy_score(ytest,ypred)*100"
   ]
  },
  {
   "cell_type": "code",
   "execution_count": null,
   "metadata": {},
   "outputs": [],
   "source": []
  }
 ],
 "metadata": {
  "kernelspec": {
   "display_name": "Python 3",
   "language": "python",
   "name": "python3"
  },
  "language_info": {
   "codemirror_mode": {
    "name": "ipython",
    "version": 3
   },
   "file_extension": ".py",
   "mimetype": "text/x-python",
   "name": "python",
   "nbconvert_exporter": "python",
   "pygments_lexer": "ipython3",
   "version": "3.7.6"
  }
 },
 "nbformat": 4,
 "nbformat_minor": 2
}
